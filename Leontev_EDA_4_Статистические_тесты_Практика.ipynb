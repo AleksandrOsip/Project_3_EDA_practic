{
  "cells": [
    {
      "cell_type": "markdown",
      "metadata": {
        "id": "EMd2vwh8ihnl"
      },
      "source": [
        "## Постановка задачи\n",
        "\n",
        "К вам как опытному дата-сайентисту обратилась HR-агенство. Компания хочет провести исследование на основе данных о зарплатах в сфере Data Science за 2020–2022 годы и получить некоторые выводы.\n",
        "\n",
        "Агенство хочет ответить на следующие вопросы, касающиеся зарплат у специалистов Data Scientist:\n",
        "\n",
        "1. Выяснить, какие факторы влияют на зарплату специалиста Data Scientist.\n",
        "2. А также ответить на ключевые вопросы HR-агентства:\n",
        "- Наблюдается ли ежегодный рост зарплат у специалистов Data Scientist?\n",
        "- Как соотносятся зарплаты Data Scientist и Data Engineer в 2022 году?\n",
        "- Как соотносятся зарплаты специалистов Data Scientist в компаниях различных размеров?\n",
        "- Есть ли связь между наличием должностей Data Scientist и Data Engineer и размером компании?\n",
        "\n",
        "Необходимо найти в данных интересные закономерности, также отметьте их в своём анализе.\n",
        "\n",
        "Продемонстрировать использование разных тестов для проверки статистической значимости сделанных выводов:\n",
        "\n",
        "тесты для количественного признака:\n",
        "для одной выборки;\n",
        "для двух выборок;\n",
        "для нескольких выборок;\n",
        "тест для категориальных признаков.\n",
        "\n",
        "На каждый вопрос необходимо ответить с уровнем значимости $\\alpha=0.05$."
      ]
    },
    {
      "cell_type": "markdown",
      "metadata": {
        "id": "yMG_XPwziMUN"
      },
      "source": [
        "# <center> Практика. Статистические тесты в контексте EDA"
      ]
    },
    {
      "cell_type": "markdown",
      "metadata": {
        "id": "xqjB2nBnNNkc"
      },
      "source": [
        "Ответить на эти вопросы нам помогут данные о выплатах зарплат специалистам Data Scientist различных компаний.\n",
        "\n",
        "Данные содержат следующие столбцы:\n",
        "\n",
        "*   *work_year* — год, в котором была выплачена зарплата;\n",
        "*   *experience_level* — опыт работы на этой должности в течение года со следующими возможными значениями:\n",
        "EN — Entry-level/Junior;\n",
        "MI — Mid-level/Intermediate;\n",
        "SE — Senior-level/Expert;\n",
        "EX — Executive-level/Director;\n",
        "*   *employment_type* — \tтип трудоустройства для этой роли:\n",
        "PT — неполный рабочий день;\n",
        "FT — полный рабочий день;\n",
        "CT — контракт;\n",
        "FL — фриланс;\n",
        "*   *job_title* — \tроль, в которой соискатель работал в течение года;\n",
        "*   *salary* — общая выплаченная валовая сумма заработной платы;\n",
        "*   *salary_currency* — валюта выплачиваемой заработной платы в виде кода валюты ISO 4217;\n",
        "*   *salary_in_usd* — зарплата в долларах США (валютный курс, делённый на среднее значение курса доллара США за соответствующий год через fxdata.foorilla.com);\n",
        "*   *employee_residence* — \tосновная страна проживания сотрудника в течение рабочего года в виде кода страны ISO 3166;\n",
        "*   *remote_ratio* — \tобщий объём работы, выполняемой удалённо. Возможные значения:\n",
        "0 — удалённой работы нет (менее 20 %);\n",
        "50 — частично удалённая работа;\n",
        "100 — полностью удалённая работа (более 80 %);\n",
        "*   *company_location* — \tстрана главного офиса работодателя или филиала по контракту в виде кода страны ISO 3166;\n",
        "*   *company_size* — \tсреднее количество людей, работавших в компании в течение года:\n",
        "S — менее 50 сотрудников (небольшая компания);\n",
        "M — от 50 до 250 сотрудников (средняя компания);\n",
        "L — более 250 сотрудников (крупная компания).\n",
        "\n",
        "Источник датасета: [“Data Science Job Salaries” (kaggle.com)](https://www.kaggle.com/datasets/ruchi798/data-science-job-salaries)"
      ]
    },
    {
      "cell_type": "markdown",
      "metadata": {
        "id": "_XMyOg3cgcN1"
      },
      "source": [
        "## Загрузка данных"
      ]
    },
    {
      "cell_type": "code",
      "execution_count": 52,
      "metadata": {
        "id": "2JjaPf35gyCK"
      },
      "outputs": [],
      "source": [
        "# загружаем необходимые библиотеки\n",
        "import pandas as pd\n",
        "import numpy as np\n",
        "\n",
        "from scipy import stats\n",
        "import statsmodels.api as sm\n",
        "from statsmodels import stats as sms\n",
        "\n",
        "import matplotlib.pyplot as plt\n",
        "import seaborn as sns\n",
        "\n",
        "# делаем визуальную настройку графиков\n",
        "sns.set_theme(\"notebook\") \n",
        "sns.set_palette(\"Set2\") "
      ]
    },
    {
      "cell_type": "code",
      "execution_count": null,
      "metadata": {
        "colab": {
          "base_uri": "https://localhost:8080/"
        },
        "id": "-Op6Oy7hf5ZM",
        "outputId": "9ea91bf5-b019-43e3-aaf4-94408a78c63f"
      },
      "outputs": [
        {
          "data": {
            "text/plain": [
              "'ds_salaries (1).zip'"
            ]
          },
          "execution_count": 3,
          "metadata": {},
          "output_type": "execute_result"
        }
      ],
      "source": [
        "# скачиваем датасет \n",
        "import wget\n",
        "wget.download (\"https://lms.skillfactory.ru/asset-v1:SkillFactory+DST-3.0+28FEB2021+type@asset+block@ds_salaries.zip\", 'ds_salaries.zip')"
      ]
    },
    {
      "cell_type": "code",
      "execution_count": null,
      "metadata": {
        "colab": {
          "base_uri": "https://localhost:8080/",
          "height": 206
        },
        "id": "ZPiI902dv11F",
        "outputId": "eccef1b9-a3cc-4144-a9df-a2a020abf30c"
      },
      "outputs": [
        {
          "data": {
            "text/html": [
              "<div>\n",
              "<style scoped>\n",
              "    .dataframe tbody tr th:only-of-type {\n",
              "        vertical-align: middle;\n",
              "    }\n",
              "\n",
              "    .dataframe tbody tr th {\n",
              "        vertical-align: top;\n",
              "    }\n",
              "\n",
              "    .dataframe thead th {\n",
              "        text-align: right;\n",
              "    }\n",
              "</style>\n",
              "<table border=\"1\" class=\"dataframe\">\n",
              "  <thead>\n",
              "    <tr style=\"text-align: right;\">\n",
              "      <th></th>\n",
              "      <th>Unnamed: 0</th>\n",
              "      <th>work_year</th>\n",
              "      <th>experience_level</th>\n",
              "      <th>employment_type</th>\n",
              "      <th>job_title</th>\n",
              "      <th>salary</th>\n",
              "      <th>salary_currency</th>\n",
              "      <th>salary_in_usd</th>\n",
              "      <th>employee_residence</th>\n",
              "      <th>remote_ratio</th>\n",
              "      <th>company_location</th>\n",
              "      <th>company_size</th>\n",
              "    </tr>\n",
              "  </thead>\n",
              "  <tbody>\n",
              "    <tr>\n",
              "      <th>0</th>\n",
              "      <td>0</td>\n",
              "      <td>2020</td>\n",
              "      <td>MI</td>\n",
              "      <td>FT</td>\n",
              "      <td>Data Scientist</td>\n",
              "      <td>70000</td>\n",
              "      <td>EUR</td>\n",
              "      <td>79833</td>\n",
              "      <td>DE</td>\n",
              "      <td>0</td>\n",
              "      <td>DE</td>\n",
              "      <td>L</td>\n",
              "    </tr>\n",
              "    <tr>\n",
              "      <th>1</th>\n",
              "      <td>1</td>\n",
              "      <td>2020</td>\n",
              "      <td>SE</td>\n",
              "      <td>FT</td>\n",
              "      <td>Machine Learning Scientist</td>\n",
              "      <td>260000</td>\n",
              "      <td>USD</td>\n",
              "      <td>260000</td>\n",
              "      <td>JP</td>\n",
              "      <td>0</td>\n",
              "      <td>JP</td>\n",
              "      <td>S</td>\n",
              "    </tr>\n",
              "    <tr>\n",
              "      <th>2</th>\n",
              "      <td>2</td>\n",
              "      <td>2020</td>\n",
              "      <td>SE</td>\n",
              "      <td>FT</td>\n",
              "      <td>Big Data Engineer</td>\n",
              "      <td>85000</td>\n",
              "      <td>GBP</td>\n",
              "      <td>109024</td>\n",
              "      <td>GB</td>\n",
              "      <td>50</td>\n",
              "      <td>GB</td>\n",
              "      <td>M</td>\n",
              "    </tr>\n",
              "    <tr>\n",
              "      <th>3</th>\n",
              "      <td>3</td>\n",
              "      <td>2020</td>\n",
              "      <td>MI</td>\n",
              "      <td>FT</td>\n",
              "      <td>Product Data Analyst</td>\n",
              "      <td>20000</td>\n",
              "      <td>USD</td>\n",
              "      <td>20000</td>\n",
              "      <td>HN</td>\n",
              "      <td>0</td>\n",
              "      <td>HN</td>\n",
              "      <td>S</td>\n",
              "    </tr>\n",
              "    <tr>\n",
              "      <th>4</th>\n",
              "      <td>4</td>\n",
              "      <td>2020</td>\n",
              "      <td>SE</td>\n",
              "      <td>FT</td>\n",
              "      <td>Machine Learning Engineer</td>\n",
              "      <td>150000</td>\n",
              "      <td>USD</td>\n",
              "      <td>150000</td>\n",
              "      <td>US</td>\n",
              "      <td>50</td>\n",
              "      <td>US</td>\n",
              "      <td>L</td>\n",
              "    </tr>\n",
              "  </tbody>\n",
              "</table>\n",
              "</div>"
            ],
            "text/plain": [
              "   Unnamed: 0  work_year experience_level employment_type  \\\n",
              "0           0       2020               MI              FT   \n",
              "1           1       2020               SE              FT   \n",
              "2           2       2020               SE              FT   \n",
              "3           3       2020               MI              FT   \n",
              "4           4       2020               SE              FT   \n",
              "\n",
              "                    job_title  salary salary_currency  salary_in_usd  \\\n",
              "0              Data Scientist   70000             EUR          79833   \n",
              "1  Machine Learning Scientist  260000             USD         260000   \n",
              "2           Big Data Engineer   85000             GBP         109024   \n",
              "3        Product Data Analyst   20000             USD          20000   \n",
              "4   Machine Learning Engineer  150000             USD         150000   \n",
              "\n",
              "  employee_residence  remote_ratio company_location company_size  \n",
              "0                 DE             0               DE            L  \n",
              "1                 JP             0               JP            S  \n",
              "2                 GB            50               GB            M  \n",
              "3                 HN             0               HN            S  \n",
              "4                 US            50               US            L  "
            ]
          },
          "execution_count": 4,
          "metadata": {},
          "output_type": "execute_result"
        }
      ],
      "source": [
        "# загружаем датасет\n",
        "data = pd.read_csv('./ds_salaries.csv')\n",
        "data.head()"
      ]
    },
    {
      "cell_type": "code",
      "execution_count": null,
      "metadata": {
        "colab": {
          "base_uri": "https://localhost:8080/"
        },
        "id": "uLEEV6aLomOU",
        "outputId": "23314b21-aa3f-4537-94cb-be776d9427ae"
      },
      "outputs": [
        {
          "name": "stdout",
          "output_type": "stream",
          "text": [
            "Уровень значимости alpha = 0.05\n"
          ]
        }
      ],
      "source": [
        "# задаём уровень значимости\n",
        "alpha = 0.05 \n",
        "print(\"Уровень значимости alpha = {:.2f}\".format(alpha))"
      ]
    },
    {
      "cell_type": "markdown",
      "metadata": {
        "id": "c9QRWWOVfV13"
      },
      "source": [
        "## Описательный анализ данных"
      ]
    },
    {
      "cell_type": "code",
      "execution_count": null,
      "metadata": {
        "colab": {
          "base_uri": "https://localhost:8080/"
        },
        "id": "zkiOmlAy2XQU",
        "outputId": "88adbac3-0fd7-460c-a368-c40baff97200"
      },
      "outputs": [
        {
          "name": "stdout",
          "output_type": "stream",
          "text": [
            "<class 'pandas.core.frame.DataFrame'>\n",
            "RangeIndex: 607 entries, 0 to 606\n",
            "Data columns (total 12 columns):\n",
            " #   Column              Non-Null Count  Dtype \n",
            "---  ------              --------------  ----- \n",
            " 0   Unnamed: 0          607 non-null    int64 \n",
            " 1   work_year           607 non-null    int64 \n",
            " 2   experience_level    607 non-null    object\n",
            " 3   employment_type     607 non-null    object\n",
            " 4   job_title           607 non-null    object\n",
            " 5   salary              607 non-null    int64 \n",
            " 6   salary_currency     607 non-null    object\n",
            " 7   salary_in_usd       607 non-null    int64 \n",
            " 8   employee_residence  607 non-null    object\n",
            " 9   remote_ratio        607 non-null    int64 \n",
            " 10  company_location    607 non-null    object\n",
            " 11  company_size        607 non-null    object\n",
            "dtypes: int64(5), object(7)\n",
            "memory usage: 57.0+ KB\n"
          ]
        }
      ],
      "source": [
        "data.info()"
      ]
    },
    {
      "cell_type": "markdown",
      "metadata": {
        "id": "2DSvnZuul7Za"
      },
      "source": [
        "В датасете 1338 записей (без пропущенных значений)."
      ]
    },
    {
      "cell_type": "markdown",
      "metadata": {
        "id": "Xug87trzl7Za"
      },
      "source": [
        "Проверим данные на наличие полных дубликатов:"
      ]
    },
    {
      "cell_type": "code",
      "execution_count": null,
      "metadata": {
        "colab": {
          "base_uri": "https://localhost:8080/"
        },
        "id": "As_X7I6jl7Za",
        "outputId": "3d3795b3-ab7c-4cc6-ab3d-23a4796a7b5c"
      },
      "outputs": [
        {
          "name": "stdout",
          "output_type": "stream",
          "text": [
            "Типы данных и наличие пропусков:\n",
            "\n",
            "<class 'pandas.core.frame.DataFrame'>\n",
            "Index: 607 entries, 0 to 606\n",
            "Data columns (total 11 columns):\n",
            " #   Column              Non-Null Count  Dtype \n",
            "---  ------              --------------  ----- \n",
            " 0   work_year           607 non-null    int64 \n",
            " 1   experience_level    607 non-null    object\n",
            " 2   employment_type     607 non-null    object\n",
            " 3   job_title           607 non-null    object\n",
            " 4   salary              607 non-null    int64 \n",
            " 5   salary_currency     607 non-null    object\n",
            " 6   salary_in_usd       607 non-null    int64 \n",
            " 7   employee_residence  607 non-null    object\n",
            " 8   remote_ratio        607 non-null    int64 \n",
            " 9   company_location    607 non-null    object\n",
            " 10  company_size        607 non-null    object\n",
            "dtypes: int64(4), object(7)\n",
            "memory usage: 56.9+ KB\n",
            "\n",
            "- Количество столбцов: 11\n",
            "- Количество строк: 607\n",
            "Количество дубликатов: 42\n",
            "Размер таблицы после удаления дубликатов: (565, 11)\n"
          ]
        }
      ],
      "source": [
        "# загружаем датасет\n",
        "data = pd.read_csv('ds_salaries.csv', index_col = 'Unnamed: 0')\n",
        "# загружаем информацию по датасету\n",
        "print('Типы данных и наличие пропусков:\\n')\n",
        "data.info()\n",
        "print(f'\\n- Количество столбцов: {data.shape[1]}')\n",
        "print(f'- Количество строк: {data.shape[0]}')\n",
        "print('Количество дубликатов: {}'.format(data[data.duplicated()].shape[0]))\n",
        "\n",
        "# Удаляем дубликаты:\n",
        "data = data.drop_duplicates()\n",
        "print('Размер таблицы после удаления дубликатов: {}'.format(data.shape))\n"
      ]
    },
    {
      "cell_type": "code",
      "execution_count": null,
      "metadata": {},
      "outputs": [
        {
          "data": {
            "text/html": [
              "<div>\n",
              "<style scoped>\n",
              "    .dataframe tbody tr th:only-of-type {\n",
              "        vertical-align: middle;\n",
              "    }\n",
              "\n",
              "    .dataframe tbody tr th {\n",
              "        vertical-align: top;\n",
              "    }\n",
              "\n",
              "    .dataframe thead th {\n",
              "        text-align: right;\n",
              "    }\n",
              "</style>\n",
              "<table border=\"1\" class=\"dataframe\">\n",
              "  <thead>\n",
              "    <tr style=\"text-align: right;\">\n",
              "      <th></th>\n",
              "      <th>work_year</th>\n",
              "      <th>experience_level</th>\n",
              "      <th>employment_type</th>\n",
              "      <th>job_title</th>\n",
              "      <th>salary</th>\n",
              "      <th>salary_currency</th>\n",
              "      <th>salary_in_usd</th>\n",
              "      <th>employee_residence</th>\n",
              "      <th>remote_ratio</th>\n",
              "      <th>company_location</th>\n",
              "      <th>company_size</th>\n",
              "    </tr>\n",
              "  </thead>\n",
              "  <tbody>\n",
              "    <tr>\n",
              "      <th>0</th>\n",
              "      <td>2020</td>\n",
              "      <td>MI</td>\n",
              "      <td>FT</td>\n",
              "      <td>Data Scientist</td>\n",
              "      <td>70000</td>\n",
              "      <td>EUR</td>\n",
              "      <td>79833</td>\n",
              "      <td>DE</td>\n",
              "      <td>0</td>\n",
              "      <td>DE</td>\n",
              "      <td>L</td>\n",
              "    </tr>\n",
              "    <tr>\n",
              "      <th>1</th>\n",
              "      <td>2020</td>\n",
              "      <td>SE</td>\n",
              "      <td>FT</td>\n",
              "      <td>Machine Learning Scientist</td>\n",
              "      <td>260000</td>\n",
              "      <td>USD</td>\n",
              "      <td>260000</td>\n",
              "      <td>JP</td>\n",
              "      <td>0</td>\n",
              "      <td>JP</td>\n",
              "      <td>S</td>\n",
              "    </tr>\n",
              "    <tr>\n",
              "      <th>2</th>\n",
              "      <td>2020</td>\n",
              "      <td>SE</td>\n",
              "      <td>FT</td>\n",
              "      <td>Big Data Engineer</td>\n",
              "      <td>85000</td>\n",
              "      <td>GBP</td>\n",
              "      <td>109024</td>\n",
              "      <td>GB</td>\n",
              "      <td>50</td>\n",
              "      <td>GB</td>\n",
              "      <td>M</td>\n",
              "    </tr>\n",
              "    <tr>\n",
              "      <th>3</th>\n",
              "      <td>2020</td>\n",
              "      <td>MI</td>\n",
              "      <td>FT</td>\n",
              "      <td>Product Data Analyst</td>\n",
              "      <td>20000</td>\n",
              "      <td>USD</td>\n",
              "      <td>20000</td>\n",
              "      <td>HN</td>\n",
              "      <td>0</td>\n",
              "      <td>HN</td>\n",
              "      <td>S</td>\n",
              "    </tr>\n",
              "    <tr>\n",
              "      <th>4</th>\n",
              "      <td>2020</td>\n",
              "      <td>SE</td>\n",
              "      <td>FT</td>\n",
              "      <td>Machine Learning Engineer</td>\n",
              "      <td>150000</td>\n",
              "      <td>USD</td>\n",
              "      <td>150000</td>\n",
              "      <td>US</td>\n",
              "      <td>50</td>\n",
              "      <td>US</td>\n",
              "      <td>L</td>\n",
              "    </tr>\n",
              "  </tbody>\n",
              "</table>\n",
              "</div>"
            ],
            "text/plain": [
              "   work_year experience_level employment_type                   job_title  \\\n",
              "0       2020               MI              FT              Data Scientist   \n",
              "1       2020               SE              FT  Machine Learning Scientist   \n",
              "2       2020               SE              FT           Big Data Engineer   \n",
              "3       2020               MI              FT        Product Data Analyst   \n",
              "4       2020               SE              FT   Machine Learning Engineer   \n",
              "\n",
              "   salary salary_currency  salary_in_usd employee_residence  remote_ratio  \\\n",
              "0   70000             EUR          79833                 DE             0   \n",
              "1  260000             USD         260000                 JP             0   \n",
              "2   85000             GBP         109024                 GB            50   \n",
              "3   20000             USD          20000                 HN             0   \n",
              "4  150000             USD         150000                 US            50   \n",
              "\n",
              "  company_location company_size  \n",
              "0               DE            L  \n",
              "1               JP            S  \n",
              "2               GB            M  \n",
              "3               HN            S  \n",
              "4               US            L  "
            ]
          },
          "execution_count": 8,
          "metadata": {},
          "output_type": "execute_result"
        }
      ],
      "source": [
        "data.head()"
      ]
    },
    {
      "cell_type": "markdown",
      "metadata": {
        "id": "6uAbyderTaNx"
      },
      "source": [
        "### Распределение зарплатных выплат по специалистам"
      ]
    },
    {
      "cell_type": "markdown",
      "metadata": {},
      "source": [
        "Сформулируем более точные вопросы и ответим на них, проверив ответ на статистическую значимость."
      ]
    },
    {
      "cell_type": "markdown",
      "metadata": {},
      "source": [
        "### Выросла ли зарплата специалистов Data Scientist в 2022 году по сравнению с 2021 годом?"
      ]
    },
    {
      "cell_type": "code",
      "execution_count": null,
      "metadata": {},
      "outputs": [
        {
          "name": "stdout",
          "output_type": "stream",
          "text": [
            "Денежное содержание Data Scientist в зависимости от года\n"
          ]
        },
        {
          "data": {
            "text/html": [
              "<div>\n",
              "<style scoped>\n",
              "    .dataframe tbody tr th:only-of-type {\n",
              "        vertical-align: middle;\n",
              "    }\n",
              "\n",
              "    .dataframe tbody tr th {\n",
              "        vertical-align: top;\n",
              "    }\n",
              "\n",
              "    .dataframe thead th {\n",
              "        text-align: right;\n",
              "    }\n",
              "</style>\n",
              "<table border=\"1\" class=\"dataframe\">\n",
              "  <thead>\n",
              "    <tr style=\"text-align: right;\">\n",
              "      <th></th>\n",
              "      <th>count</th>\n",
              "      <th>mean</th>\n",
              "      <th>std</th>\n",
              "      <th>min</th>\n",
              "      <th>25%</th>\n",
              "      <th>50%</th>\n",
              "      <th>75%</th>\n",
              "      <th>max</th>\n",
              "    </tr>\n",
              "    <tr>\n",
              "      <th>work_year</th>\n",
              "      <th></th>\n",
              "      <th></th>\n",
              "      <th></th>\n",
              "      <th></th>\n",
              "      <th></th>\n",
              "      <th></th>\n",
              "      <th></th>\n",
              "      <th></th>\n",
              "    </tr>\n",
              "  </thead>\n",
              "  <tbody>\n",
              "    <tr>\n",
              "      <th>2020</th>\n",
              "      <td>21.0</td>\n",
              "      <td>85970.52</td>\n",
              "      <td>81436.65</td>\n",
              "      <td>21669.0</td>\n",
              "      <td>42197.00</td>\n",
              "      <td>62726.0</td>\n",
              "      <td>105000.00</td>\n",
              "      <td>412000.0</td>\n",
              "    </tr>\n",
              "    <tr>\n",
              "      <th>2021</th>\n",
              "      <td>44.0</td>\n",
              "      <td>70215.77</td>\n",
              "      <td>45843.82</td>\n",
              "      <td>2859.0</td>\n",
              "      <td>32793.75</td>\n",
              "      <td>67233.5</td>\n",
              "      <td>100922.75</td>\n",
              "      <td>165000.0</td>\n",
              "    </tr>\n",
              "    <tr>\n",
              "      <th>2022</th>\n",
              "      <td>65.0</td>\n",
              "      <td>131366.94</td>\n",
              "      <td>55785.24</td>\n",
              "      <td>18442.0</td>\n",
              "      <td>95550.00</td>\n",
              "      <td>135000.0</td>\n",
              "      <td>170000.00</td>\n",
              "      <td>260000.0</td>\n",
              "    </tr>\n",
              "  </tbody>\n",
              "</table>\n",
              "</div>"
            ],
            "text/plain": [
              "           count       mean       std      min       25%       50%        75%  \\\n",
              "work_year                                                                       \n",
              "2020        21.0   85970.52  81436.65  21669.0  42197.00   62726.0  105000.00   \n",
              "2021        44.0   70215.77  45843.82   2859.0  32793.75   67233.5  100922.75   \n",
              "2022        65.0  131366.94  55785.24  18442.0  95550.00  135000.0  170000.00   \n",
              "\n",
              "                max  \n",
              "work_year            \n",
              "2020       412000.0  \n",
              "2021       165000.0  \n",
              "2022       260000.0  "
            ]
          },
          "execution_count": 9,
          "metadata": {},
          "output_type": "execute_result"
        }
      ],
      "source": [
        "data_scientist = data[data['job_title'] == 'Data Scientist']\n",
        "data_agg = data_scientist.groupby('work_year')['salary_in_usd'].describe().round(2)\n",
        "print('Денежное содержание Data Scientist в зависимости от года')\n",
        "data_agg"
      ]
    },
    {
      "cell_type": "code",
      "execution_count": null,
      "metadata": {},
      "outputs": [
        {
          "name": "stderr",
          "output_type": "stream",
          "text": [
            "c:\\Python310\\lib\\site-packages\\seaborn\\_oldcore.py:1498: FutureWarning: is_categorical_dtype is deprecated and will be removed in a future version. Use isinstance(dtype, CategoricalDtype) instead\n",
            "  if pd.api.types.is_categorical_dtype(vector):\n",
            "c:\\Python310\\lib\\site-packages\\seaborn\\_oldcore.py:1119: FutureWarning: use_inf_as_na option is deprecated and will be removed in a future version. Convert inf values to NaN before operating instead.\n",
            "  with pd.option_context('mode.use_inf_as_na', True):\n"
          ]
        },
        {
          "data": {
            "image/png": "[encoded data removed]",
            "text/plain": [
              "<Figure size 1500x500 with 2 Axes>"
            ]
          },
          "metadata": {},
          "output_type": "display_data"
        }
      ],
      "source": [
        "fig, axes = plt.subplots(1, 2, figsize=(15, 5))\n",
        "\n",
        "sns.histplot(data_scientist['salary_in_usd'], kde=True, ax=axes[0])\n",
        "axes[0].set(xlabel='Размер зарплаты в долларах США', ylabel='Количество специалистов')\n",
        "axes[0].set_title('Распределение денежного содержания для специалистов Data Scientist')\n",
        "axes[0].axvline(data_scientist['salary_in_usd'].mean(), color='red', linestyle='--',\\\n",
        "    linewidth=0.8)\n",
        "\n",
        "sns.boxplot(data_scientist['salary_in_usd'], ax=axes[1], orient='h',\\\n",
        "    medianprops={\"color\": \"red\", \"linestyle\": '--'})\n",
        "axes[1].set(ylabel='Размер зарплаты в долларах США')\n",
        "axes[1].set_title('Распределение денежного содержания всех специалистов Data Scientist')\n",
        "\n",
        "plt.show()"
      ]
    },
    {
      "cell_type": "code",
      "execution_count": null,
      "metadata": {},
      "outputs": [
        {
          "name": "stderr",
          "output_type": "stream",
          "text": [
            "c:\\Python310\\lib\\site-packages\\seaborn\\_oldcore.py:1498: FutureWarning: is_categorical_dtype is deprecated and will be removed in a future version. Use isinstance(dtype, CategoricalDtype) instead\n",
            "  if pd.api.types.is_categorical_dtype(vector):\n",
            "c:\\Python310\\lib\\site-packages\\seaborn\\_oldcore.py:1498: FutureWarning: is_categorical_dtype is deprecated and will be removed in a future version. Use isinstance(dtype, CategoricalDtype) instead\n",
            "  if pd.api.types.is_categorical_dtype(vector):\n",
            "c:\\Python310\\lib\\site-packages\\seaborn\\_oldcore.py:1498: FutureWarning: is_categorical_dtype is deprecated and will be removed in a future version. Use isinstance(dtype, CategoricalDtype) instead\n",
            "  if pd.api.types.is_categorical_dtype(vector):\n"
          ]
        },
        {
          "data": {
            "image/png": "[encoded data removed]",
            "text/plain": [
              "<Figure size 640x480 with 1 Axes>"
            ]
          },
          "metadata": {},
          "output_type": "display_data"
        }
      ],
      "source": [
        "ax = sns.boxplot(data_scientist, x='salary_in_usd', y='work_year', orient='h',\\\n",
        "    medianprops={\"color\": \"red\", \"linestyle\": '--'})\n",
        "ax.set(xlabel='Размер денежного содержания', ylabel='Год')\n",
        "plt.title('Распределение зарплат специалистов Data Scientist в зависимости от года')\n",
        "plt.show()"
      ]
    },
    {
      "cell_type": "markdown",
      "metadata": {},
      "source": [
        "На первый взгляд распределение размера заработных выплат специалистов Data Scientist в зависиости от года различны. И в целом наблюдается тенденция роста зарплат 2022 года по отношению к 2021 году. Чтобы определить, являются ли эти различия статистически значимыми, в следующем разделе мы проведём статистическое тестирование."
      ]
    },
    {
      "cell_type": "markdown",
      "metadata": {},
      "source": [
        "### Была ли зарплата специалистов Data Scientist больше, чем зарплата специалистов Data Engineer в 2022 году?"
      ]
    },
    {
      "cell_type": "code",
      "execution_count": null,
      "metadata": {},
      "outputs": [
        {
          "name": "stdout",
          "output_type": "stream",
          "text": [
            "Денежное содержание специалистов Data Scientist и Data Engineer в зависимости в 2022 году\n"
          ]
        },
        {
          "data": {
            "text/html": [
              "<div>\n",
              "<style scoped>\n",
              "    .dataframe tbody tr th:only-of-type {\n",
              "        vertical-align: middle;\n",
              "    }\n",
              "\n",
              "    .dataframe tbody tr th {\n",
              "        vertical-align: top;\n",
              "    }\n",
              "\n",
              "    .dataframe thead th {\n",
              "        text-align: right;\n",
              "    }\n",
              "</style>\n",
              "<table border=\"1\" class=\"dataframe\">\n",
              "  <thead>\n",
              "    <tr style=\"text-align: right;\">\n",
              "      <th></th>\n",
              "      <th>count</th>\n",
              "      <th>mean</th>\n",
              "      <th>std</th>\n",
              "      <th>min</th>\n",
              "      <th>25%</th>\n",
              "      <th>50%</th>\n",
              "      <th>75%</th>\n",
              "      <th>max</th>\n",
              "    </tr>\n",
              "    <tr>\n",
              "      <th>work_year</th>\n",
              "      <th></th>\n",
              "      <th></th>\n",
              "      <th></th>\n",
              "      <th></th>\n",
              "      <th></th>\n",
              "      <th></th>\n",
              "      <th></th>\n",
              "      <th></th>\n",
              "    </tr>\n",
              "  </thead>\n",
              "  <tbody>\n",
              "    <tr>\n",
              "      <th>2022</th>\n",
              "      <td>65.0</td>\n",
              "      <td>131366.94</td>\n",
              "      <td>55785.24</td>\n",
              "      <td>18442.0</td>\n",
              "      <td>95550.0</td>\n",
              "      <td>135000.0</td>\n",
              "      <td>170000.0</td>\n",
              "      <td>260000.0</td>\n",
              "    </tr>\n",
              "  </tbody>\n",
              "</table>\n",
              "</div>"
            ],
            "text/plain": [
              "           count       mean       std      min      25%       50%       75%  \\\n",
              "work_year                                                                     \n",
              "2022        65.0  131366.94  55785.24  18442.0  95550.0  135000.0  170000.0   \n",
              "\n",
              "                max  \n",
              "work_year            \n",
              "2022       260000.0  "
            ]
          },
          "metadata": {},
          "output_type": "display_data"
        },
        {
          "data": {
            "text/html": [
              "<div>\n",
              "<style scoped>\n",
              "    .dataframe tbody tr th:only-of-type {\n",
              "        vertical-align: middle;\n",
              "    }\n",
              "\n",
              "    .dataframe tbody tr th {\n",
              "        vertical-align: top;\n",
              "    }\n",
              "\n",
              "    .dataframe thead th {\n",
              "        text-align: right;\n",
              "    }\n",
              "</style>\n",
              "<table border=\"1\" class=\"dataframe\">\n",
              "  <thead>\n",
              "    <tr style=\"text-align: right;\">\n",
              "      <th></th>\n",
              "      <th>count</th>\n",
              "      <th>mean</th>\n",
              "      <th>std</th>\n",
              "      <th>min</th>\n",
              "      <th>25%</th>\n",
              "      <th>50%</th>\n",
              "      <th>75%</th>\n",
              "      <th>max</th>\n",
              "    </tr>\n",
              "    <tr>\n",
              "      <th>work_year</th>\n",
              "      <th></th>\n",
              "      <th></th>\n",
              "      <th></th>\n",
              "      <th></th>\n",
              "      <th></th>\n",
              "      <th></th>\n",
              "      <th></th>\n",
              "      <th></th>\n",
              "    </tr>\n",
              "  </thead>\n",
              "  <tbody>\n",
              "    <tr>\n",
              "      <th>2022</th>\n",
              "      <td>79.0</td>\n",
              "      <td>124651.78</td>\n",
              "      <td>57846.84</td>\n",
              "      <td>25000.0</td>\n",
              "      <td>78526.0</td>\n",
              "      <td>115000.0</td>\n",
              "      <td>160040.0</td>\n",
              "      <td>324000.0</td>\n",
              "    </tr>\n",
              "  </tbody>\n",
              "</table>\n",
              "</div>"
            ],
            "text/plain": [
              "           count       mean       std      min      25%       50%       75%  \\\n",
              "work_year                                                                     \n",
              "2022        79.0  124651.78  57846.84  25000.0  78526.0  115000.0  160040.0   \n",
              "\n",
              "                max  \n",
              "work_year            \n",
              "2022       324000.0  "
            ]
          },
          "metadata": {},
          "output_type": "display_data"
        }
      ],
      "source": [
        "data_scientist = data[(data['job_title'] == 'Data Scientist') & (data['work_year'].isin([2022]))]\n",
        "data_agg_d_s = data_scientist.groupby('work_year')['salary_in_usd'].describe().round(2)\n",
        "print('Денежное содержание специалистов Data Scientist и Data Engineer в зависимости в 2022 году')\n",
        "data_engineer = data[(data['job_title'] == 'Data Engineer') & (data['work_year'].isin([2022]))]\n",
        "data_agg_d_e = data_engineer.groupby('work_year')['salary_in_usd'].describe().round(2)\n",
        "display(data_agg_d_s, data_agg_d_e)"
      ]
    },
    {
      "cell_type": "code",
      "execution_count": null,
      "metadata": {
        "colab": {
          "base_uri": "https://localhost:8080/",
          "height": 496
        },
        "id": "KX6k6B2NWJ8t",
        "outputId": "523d571d-679e-4926-fe74-dc130c6a1b53"
      },
      "outputs": [
        {
          "name": "stderr",
          "output_type": "stream",
          "text": [
            "c:\\Python310\\lib\\site-packages\\seaborn\\_oldcore.py:1498: FutureWarning: is_categorical_dtype is deprecated and will be removed in a future version. Use isinstance(dtype, CategoricalDtype) instead\n",
            "  if pd.api.types.is_categorical_dtype(vector):\n",
            "c:\\Python310\\lib\\site-packages\\seaborn\\_oldcore.py:1119: FutureWarning: use_inf_as_na option is deprecated and will be removed in a future version. Convert inf values to NaN before operating instead.\n",
            "  with pd.option_context('mode.use_inf_as_na', True):\n",
            "c:\\Python310\\lib\\site-packages\\seaborn\\_oldcore.py:1498: FutureWarning: is_categorical_dtype is deprecated and will be removed in a future version. Use isinstance(dtype, CategoricalDtype) instead\n",
            "  if pd.api.types.is_categorical_dtype(vector):\n",
            "c:\\Python310\\lib\\site-packages\\seaborn\\_oldcore.py:1119: FutureWarning: use_inf_as_na option is deprecated and will be removed in a future version. Convert inf values to NaN before operating instead.\n",
            "  with pd.option_context('mode.use_inf_as_na', True):\n"
          ]
        },
        {
          "data": {
            "image/png": "[encoded data removed]",
            "text/plain": [
              "<Figure size 1500x500 with 2 Axes>"
            ]
          },
          "metadata": {},
          "output_type": "display_data"
        }
      ],
      "source": [
        "fig, axes = plt.subplots(1, 2, figsize=(15, 5),  sharey=True)\n",
        "\n",
        "sns.histplot(data_scientist['salary_in_usd'], kde=True, ax=axes[0])\n",
        "axes[0].set(xlabel='Размер зарплаты в долларах США', ylabel='Количество специалистов')\n",
        "axes[0].set_title('Распределение денежного содержания для специалистов Data Scientist')\n",
        "axes[0].axvline(data_scientist['salary_in_usd'].mean(), color='red', linestyle='--',\\\n",
        "    linewidth=0.8)\n",
        "\n",
        "sns.histplot(data_engineer['salary_in_usd'], kde=True, ax=axes[1])\n",
        "axes[1].set(xlabel='Размер зарплаты в долларах США', ylabel='Количество специалистов')\n",
        "axes[1].set_title('Распределение денежного содержания для специалистов Data Engineer')\n",
        "axes[1].axvline(data_engineer['salary_in_usd'].mean(), color='red', linestyle='--',\\\n",
        "    linewidth=0.8)\n",
        "\n",
        "plt.show()"
      ]
    },
    {
      "cell_type": "markdown",
      "metadata": {},
      "source": [
        "На первый взгляд размера заработных выплат специалистов Data Scientist ,больше специалистов Data Engineer в 2022 году. Чтобы определить, являются ли эти различия статистически значимыми, в следующем разделе мы проведём статистическое тестирование."
      ]
    },
    {
      "cell_type": "markdown",
      "metadata": {},
      "source": [
        "### Различна ли зарплата специалистов Data Scientist в маленьких, средних и больших компаниях?"
      ]
    },
    {
      "cell_type": "code",
      "execution_count": null,
      "metadata": {},
      "outputs": [
        {
          "name": "stderr",
          "output_type": "stream",
          "text": [
            "c:\\Python310\\lib\\site-packages\\seaborn\\_oldcore.py:1498: FutureWarning: is_categorical_dtype is deprecated and will be removed in a future version. Use isinstance(dtype, CategoricalDtype) instead\n",
            "  if pd.api.types.is_categorical_dtype(vector):\n",
            "c:\\Python310\\lib\\site-packages\\seaborn\\_oldcore.py:1498: FutureWarning: is_categorical_dtype is deprecated and will be removed in a future version. Use isinstance(dtype, CategoricalDtype) instead\n",
            "  if pd.api.types.is_categorical_dtype(vector):\n",
            "c:\\Python310\\lib\\site-packages\\seaborn\\_oldcore.py:1498: FutureWarning: is_categorical_dtype is deprecated and will be removed in a future version. Use isinstance(dtype, CategoricalDtype) instead\n",
            "  if pd.api.types.is_categorical_dtype(vector):\n"
          ]
        },
        {
          "data": {
            "image/png": "[encoded data removed]",
            "text/plain": [
              "<Figure size 640x480 with 1 Axes>"
            ]
          },
          "metadata": {},
          "output_type": "display_data"
        }
      ],
      "source": [
        "ax = sns.boxplot(data_scientist, x='salary_in_usd', y='company_size', orient='h',\\\n",
        "    medianprops={\"color\": \"red\", \"linestyle\": '--'})\n",
        "ax.set(xlabel='Размер зарплатных выплат', ylabel='Размер компании')\n",
        "plt.title('Распределение зарплатных выплат специалистов Data Scientist в зависимости от размера компании')\n",
        "plt.show()"
      ]
    },
    {
      "cell_type": "code",
      "execution_count": null,
      "metadata": {},
      "outputs": [
        {
          "name": "stdout",
          "output_type": "stream",
          "text": [
            "Зарплатные выплаты в зависимости от размера компании\n"
          ]
        },
        {
          "data": {
            "text/html": [
              "<div>\n",
              "<style scoped>\n",
              "    .dataframe tbody tr th:only-of-type {\n",
              "        vertical-align: middle;\n",
              "    }\n",
              "\n",
              "    .dataframe tbody tr th {\n",
              "        vertical-align: top;\n",
              "    }\n",
              "\n",
              "    .dataframe thead th {\n",
              "        text-align: right;\n",
              "    }\n",
              "</style>\n",
              "<table border=\"1\" class=\"dataframe\">\n",
              "  <thead>\n",
              "    <tr style=\"text-align: right;\">\n",
              "      <th></th>\n",
              "      <th>count</th>\n",
              "      <th>mean</th>\n",
              "      <th>std</th>\n",
              "      <th>min</th>\n",
              "      <th>25%</th>\n",
              "      <th>50%</th>\n",
              "      <th>75%</th>\n",
              "      <th>max</th>\n",
              "    </tr>\n",
              "    <tr>\n",
              "      <th>company_size</th>\n",
              "      <th></th>\n",
              "      <th></th>\n",
              "      <th></th>\n",
              "      <th></th>\n",
              "      <th></th>\n",
              "      <th></th>\n",
              "      <th></th>\n",
              "      <th></th>\n",
              "    </tr>\n",
              "  </thead>\n",
              "  <tbody>\n",
              "    <tr>\n",
              "      <th>L</th>\n",
              "      <td>43.0</td>\n",
              "      <td>102743.42</td>\n",
              "      <td>73254.10</td>\n",
              "      <td>13400.0</td>\n",
              "      <td>45240.5</td>\n",
              "      <td>90734.0</td>\n",
              "      <td>135000.0</td>\n",
              "      <td>412000.0</td>\n",
              "    </tr>\n",
              "    <tr>\n",
              "      <th>M</th>\n",
              "      <td>66.0</td>\n",
              "      <td>120080.58</td>\n",
              "      <td>56347.79</td>\n",
              "      <td>4000.0</td>\n",
              "      <td>80000.0</td>\n",
              "      <td>119529.5</td>\n",
              "      <td>157500.0</td>\n",
              "      <td>260000.0</td>\n",
              "    </tr>\n",
              "    <tr>\n",
              "      <th>S</th>\n",
              "      <td>21.0</td>\n",
              "      <td>51925.76</td>\n",
              "      <td>33216.29</td>\n",
              "      <td>2859.0</td>\n",
              "      <td>21669.0</td>\n",
              "      <td>49268.0</td>\n",
              "      <td>82500.0</td>\n",
              "      <td>105000.0</td>\n",
              "    </tr>\n",
              "  </tbody>\n",
              "</table>\n",
              "</div>"
            ],
            "text/plain": [
              "              count       mean       std      min      25%       50%  \\\n",
              "company_size                                                           \n",
              "L              43.0  102743.42  73254.10  13400.0  45240.5   90734.0   \n",
              "M              66.0  120080.58  56347.79   4000.0  80000.0  119529.5   \n",
              "S              21.0   51925.76  33216.29   2859.0  21669.0   49268.0   \n",
              "\n",
              "                   75%       max  \n",
              "company_size                      \n",
              "L             135000.0  412000.0  \n",
              "M             157500.0  260000.0  \n",
              "S              82500.0  105000.0  "
            ]
          },
          "execution_count": 15,
          "metadata": {},
          "output_type": "execute_result"
        }
      ],
      "source": [
        "data_scientist = data[(data['job_title'] == 'Data Scientist')]\n",
        "data_agg = data_scientist.groupby('company_size')['salary_in_usd'].describe().round(2)\n",
        "print('Зарплатные выплаты в зависимости от размера компании')\n",
        "data_agg"
      ]
    },
    {
      "cell_type": "markdown",
      "metadata": {},
      "source": [
        "На первый взгляд распределение размера заработных выплат специалистов Data Scientist в зависиости от размера компании различны. Чтобы определить, являются ли эти различия статистически значимыми, в следующем разделе мы проведём статистическое тестирование."
      ]
    },
    {
      "cell_type": "markdown",
      "metadata": {},
      "source": [
        "### Есть ли связь между наличием должностей Data Scientist и Data Engineer и размером компании?"
      ]
    },
    {
      "cell_type": "code",
      "execution_count": null,
      "metadata": {},
      "outputs": [
        {
          "name": "stdout",
          "output_type": "stream",
          "text": [
            "Зависимость вакансий Data Scientist и Data Engineer от опыта работы и размера компании\n"
          ]
        },
        {
          "data": {
            "text/html": [
              "<div>\n",
              "<style scoped>\n",
              "    .dataframe tbody tr th:only-of-type {\n",
              "        vertical-align: middle;\n",
              "    }\n",
              "\n",
              "    .dataframe tbody tr th {\n",
              "        vertical-align: top;\n",
              "    }\n",
              "\n",
              "    .dataframe thead th {\n",
              "        text-align: right;\n",
              "    }\n",
              "</style>\n",
              "<table border=\"1\" class=\"dataframe\">\n",
              "  <thead>\n",
              "    <tr style=\"text-align: right;\">\n",
              "      <th></th>\n",
              "      <th>count</th>\n",
              "      <th>unique</th>\n",
              "      <th>top</th>\n",
              "      <th>freq</th>\n",
              "    </tr>\n",
              "    <tr>\n",
              "      <th>company_size</th>\n",
              "      <th></th>\n",
              "      <th></th>\n",
              "      <th></th>\n",
              "      <th></th>\n",
              "    </tr>\n",
              "  </thead>\n",
              "  <tbody>\n",
              "    <tr>\n",
              "      <th>L</th>\n",
              "      <td>34</td>\n",
              "      <td>3</td>\n",
              "      <td>MI</td>\n",
              "      <td>20</td>\n",
              "    </tr>\n",
              "    <tr>\n",
              "      <th>M</th>\n",
              "      <td>81</td>\n",
              "      <td>4</td>\n",
              "      <td>SE</td>\n",
              "      <td>41</td>\n",
              "    </tr>\n",
              "    <tr>\n",
              "      <th>S</th>\n",
              "      <td>6</td>\n",
              "      <td>3</td>\n",
              "      <td>SE</td>\n",
              "      <td>3</td>\n",
              "    </tr>\n",
              "  </tbody>\n",
              "</table>\n",
              "</div>"
            ],
            "text/plain": [
              "             count unique top freq\n",
              "company_size                      \n",
              "L               34      3  MI   20\n",
              "M               81      4  SE   41\n",
              "S                6      3  SE    3"
            ]
          },
          "metadata": {},
          "output_type": "display_data"
        },
        {
          "data": {
            "text/html": [
              "<div>\n",
              "<style scoped>\n",
              "    .dataframe tbody tr th:only-of-type {\n",
              "        vertical-align: middle;\n",
              "    }\n",
              "\n",
              "    .dataframe tbody tr th {\n",
              "        vertical-align: top;\n",
              "    }\n",
              "\n",
              "    .dataframe thead th {\n",
              "        text-align: right;\n",
              "    }\n",
              "</style>\n",
              "<table border=\"1\" class=\"dataframe\">\n",
              "  <thead>\n",
              "    <tr style=\"text-align: right;\">\n",
              "      <th></th>\n",
              "      <th>count</th>\n",
              "      <th>unique</th>\n",
              "      <th>top</th>\n",
              "      <th>freq</th>\n",
              "    </tr>\n",
              "    <tr>\n",
              "      <th>company_size</th>\n",
              "      <th></th>\n",
              "      <th></th>\n",
              "      <th></th>\n",
              "      <th></th>\n",
              "    </tr>\n",
              "  </thead>\n",
              "  <tbody>\n",
              "    <tr>\n",
              "      <th>L</th>\n",
              "      <td>43</td>\n",
              "      <td>3</td>\n",
              "      <td>MI</td>\n",
              "      <td>22</td>\n",
              "    </tr>\n",
              "    <tr>\n",
              "      <th>M</th>\n",
              "      <td>66</td>\n",
              "      <td>3</td>\n",
              "      <td>SE</td>\n",
              "      <td>32</td>\n",
              "    </tr>\n",
              "    <tr>\n",
              "      <th>S</th>\n",
              "      <td>21</td>\n",
              "      <td>3</td>\n",
              "      <td>MI</td>\n",
              "      <td>12</td>\n",
              "    </tr>\n",
              "  </tbody>\n",
              "</table>\n",
              "</div>"
            ],
            "text/plain": [
              "             count unique top freq\n",
              "company_size                      \n",
              "L               43      3  MI   22\n",
              "M               66      3  SE   32\n",
              "S               21      3  MI   12"
            ]
          },
          "metadata": {},
          "output_type": "display_data"
        }
      ],
      "source": [
        "data_scientist = data[(data['job_title'] == 'Data Scientist')]\n",
        "data_agg_d_s = data_scientist.groupby('company_size')['experience_level'].describe().round(2)\n",
        "print('Зависимость вакансий Data Scientist и Data Engineer от опыта работы и размера компании')\n",
        "data_engineer = data[(data['job_title'] == 'Data Engineer')]\n",
        "data_agg_d_e = data_engineer.groupby('company_size')['experience_level'].describe().round(2)\n",
        "display(data_agg_d_e, data_agg_d_s)"
      ]
    },
    {
      "cell_type": "code",
      "execution_count": null,
      "metadata": {},
      "outputs": [
        {
          "data": {
            "image/png": "[encoded data removed]",
            "text/plain": [
              "<Figure size 640x480 with 2 Axes>"
            ]
          },
          "metadata": {},
          "output_type": "display_data"
        }
      ],
      "source": [
        "cross_tab = pd.crosstab(index=data_scientist['experience_level'], columns=data['company_size'])\n",
        "ax = sns.heatmap(cross_tab, annot=True, linewidth=.5, fmt='.0f', cmap=\"coolwarm\")\n",
        "ax.set(xlabel='Размер компании', ylabel='Опыт специалиста')\n",
        "ax.set_xticklabels(['Большие', 'Средние', 'Маленькие'])\n",
        "ax.set_yticklabels(['Entry', 'Middle', 'Senior'])\n",
        "plt.title('Распределение вакансий Data Scientist в зависимости от опыта и размера компании')\n",
        "plt.show()"
      ]
    },
    {
      "cell_type": "code",
      "execution_count": null,
      "metadata": {},
      "outputs": [
        {
          "data": {
            "image/png": "[encoded data removed]",
            "text/plain": [
              "<Figure size 640x480 with 2 Axes>"
            ]
          },
          "metadata": {},
          "output_type": "display_data"
        }
      ],
      "source": [
        "cross_tab = pd.crosstab(index=data_engineer['experience_level'], columns=data['company_size'])\n",
        "ax = sns.heatmap(cross_tab, annot=True, linewidth=.5, fmt='.0f', cmap=\"coolwarm\")\n",
        "ax.set(xlabel='Размер компании', ylabel='Опыт специалиста')\n",
        "ax.set_xticklabels(['Большие', 'Средние', 'Маленькие'])\n",
        "ax.set_yticklabels(['Entry', 'Middle', 'Senior', 'Executive'])\n",
        "plt.title('Распределение вакансий Data Engineer в зависимости от опыта и размера компании')\n",
        "plt.show()"
      ]
    },
    {
      "cell_type": "markdown",
      "metadata": {},
      "source": [
        "На первый взгляд распределение наличия вакансий специалистов Data Scientist и Data Engineer в зависиости от размера компании различны. Чтобы определить, являются ли эти различия статистически значимыми, в следующем разделе мы проведём статистическое тестирование."
      ]
    },
    {
      "cell_type": "code",
      "execution_count": null,
      "metadata": {
        "colab": {
          "base_uri": "https://localhost:8080/",
          "height": 300
        },
        "id": "h4rqfECm4umv",
        "outputId": "3edbc181-1016-488d-ef8c-6dfc5dbbfee1"
      },
      "outputs": [
        {
          "data": {
            "text/html": [
              "<div>\n",
              "<style scoped>\n",
              "    .dataframe tbody tr th:only-of-type {\n",
              "        vertical-align: middle;\n",
              "    }\n",
              "\n",
              "    .dataframe tbody tr th {\n",
              "        vertical-align: top;\n",
              "    }\n",
              "\n",
              "    .dataframe thead th {\n",
              "        text-align: right;\n",
              "    }\n",
              "</style>\n",
              "<table border=\"1\" class=\"dataframe\">\n",
              "  <thead>\n",
              "    <tr style=\"text-align: right;\">\n",
              "      <th></th>\n",
              "      <th>Общая выплаченная валовая сумма заработной платы</th>\n",
              "    </tr>\n",
              "  </thead>\n",
              "  <tbody>\n",
              "    <tr>\n",
              "      <th>count</th>\n",
              "      <td>565.0</td>\n",
              "    </tr>\n",
              "    <tr>\n",
              "      <th>mean</th>\n",
              "      <td>338116.0</td>\n",
              "    </tr>\n",
              "    <tr>\n",
              "      <th>std</th>\n",
              "      <td>1599879.0</td>\n",
              "    </tr>\n",
              "    <tr>\n",
              "      <th>min</th>\n",
              "      <td>4000.0</td>\n",
              "    </tr>\n",
              "    <tr>\n",
              "      <th>25%</th>\n",
              "      <td>67000.0</td>\n",
              "    </tr>\n",
              "    <tr>\n",
              "      <th>50%</th>\n",
              "      <td>110925.0</td>\n",
              "    </tr>\n",
              "    <tr>\n",
              "      <th>75%</th>\n",
              "      <td>165000.0</td>\n",
              "    </tr>\n",
              "    <tr>\n",
              "      <th>max</th>\n",
              "      <td>30400000.0</td>\n",
              "    </tr>\n",
              "  </tbody>\n",
              "</table>\n",
              "</div>"
            ],
            "text/plain": [
              "       Общая выплаченная валовая сумма заработной платы\n",
              "count                                             565.0\n",
              "mean                                           338116.0\n",
              "std                                           1599879.0\n",
              "min                                              4000.0\n",
              "25%                                             67000.0\n",
              "50%                                            110925.0\n",
              "75%                                            165000.0\n",
              "max                                          30400000.0"
            ]
          },
          "execution_count": 19,
          "metadata": {},
          "output_type": "execute_result"
        }
      ],
      "source": [
        "data_agg = data['salary'].describe().round(0).to_frame()\n",
        "data_agg.columns = ['Общая выплаченная валовая сумма заработной платы']\n",
        "data_agg"
      ]
    },
    {
      "cell_type": "markdown",
      "metadata": {
        "id": "fHrGH7w56m5c"
      },
      "source": [
        "Распределение зарплат отлично от нормального, имеются выбросы."
      ]
    },
    {
      "cell_type": "markdown",
      "metadata": {
        "id": "cFABAmBjTkCo"
      },
      "source": [
        "### Можно ли утверждать, что зарплатные выплаты в зависимости от года растут?"
      ]
    },
    {
      "cell_type": "code",
      "execution_count": null,
      "metadata": {
        "colab": {
          "base_uri": "https://localhost:8080/",
          "height": 480
        },
        "id": "a06HKS1bwzsS",
        "outputId": "e4aa3e1a-71d3-4df3-8857-3f9f4342fa18"
      },
      "outputs": [
        {
          "name": "stderr",
          "output_type": "stream",
          "text": [
            "c:\\Python310\\lib\\site-packages\\seaborn\\_oldcore.py:1498: FutureWarning: is_categorical_dtype is deprecated and will be removed in a future version. Use isinstance(dtype, CategoricalDtype) instead\n",
            "  if pd.api.types.is_categorical_dtype(vector):\n",
            "c:\\Python310\\lib\\site-packages\\seaborn\\_oldcore.py:1498: FutureWarning: is_categorical_dtype is deprecated and will be removed in a future version. Use isinstance(dtype, CategoricalDtype) instead\n",
            "  if pd.api.types.is_categorical_dtype(vector):\n",
            "c:\\Python310\\lib\\site-packages\\seaborn\\_oldcore.py:1498: FutureWarning: is_categorical_dtype is deprecated and will be removed in a future version. Use isinstance(dtype, CategoricalDtype) instead\n",
            "  if pd.api.types.is_categorical_dtype(vector):\n"
          ]
        },
        {
          "data": {
            "image/png": "[encoded data removed]",
            "text/plain": [
              "<Figure size 640x480 with 1 Axes>"
            ]
          },
          "metadata": {},
          "output_type": "display_data"
        }
      ],
      "source": [
        "ax = sns.boxplot(data, x='salary_in_usd', y='work_year', orient='h', medianprops={\"color\": \"red\", \"linestyle\": '--'})\n",
        "ax.set(xlabel='Размер денежного содержания', ylabel='Год')\n",
        "plt.title('Зависимость зарплат от года')\n",
        "plt.show()"
      ]
    },
    {
      "cell_type": "code",
      "execution_count": null,
      "metadata": {
        "colab": {
          "base_uri": "https://localhost:8080/",
          "height": 161
        },
        "id": "yXC_rLMn_fFV",
        "outputId": "f54838b2-b0db-4562-b281-fab9ee61eb59"
      },
      "outputs": [
        {
          "name": "stdout",
          "output_type": "stream",
          "text": [
            "Денежное содержание в зависимости от года\n"
          ]
        },
        {
          "data": {
            "text/html": [
              "<div>\n",
              "<style scoped>\n",
              "    .dataframe tbody tr th:only-of-type {\n",
              "        vertical-align: middle;\n",
              "    }\n",
              "\n",
              "    .dataframe tbody tr th {\n",
              "        vertical-align: top;\n",
              "    }\n",
              "\n",
              "    .dataframe thead th {\n",
              "        text-align: right;\n",
              "    }\n",
              "</style>\n",
              "<table border=\"1\" class=\"dataframe\">\n",
              "  <thead>\n",
              "    <tr style=\"text-align: right;\">\n",
              "      <th></th>\n",
              "      <th>count</th>\n",
              "      <th>mean</th>\n",
              "      <th>std</th>\n",
              "      <th>min</th>\n",
              "      <th>25%</th>\n",
              "      <th>50%</th>\n",
              "      <th>75%</th>\n",
              "      <th>max</th>\n",
              "    </tr>\n",
              "    <tr>\n",
              "      <th>work_year</th>\n",
              "      <th></th>\n",
              "      <th></th>\n",
              "      <th></th>\n",
              "      <th></th>\n",
              "      <th></th>\n",
              "      <th></th>\n",
              "      <th></th>\n",
              "      <th></th>\n",
              "    </tr>\n",
              "  </thead>\n",
              "  <tbody>\n",
              "    <tr>\n",
              "      <th>2020</th>\n",
              "      <td>72.0</td>\n",
              "      <td>95813.00</td>\n",
              "      <td>82831.80</td>\n",
              "      <td>5707.0</td>\n",
              "      <td>45724.5</td>\n",
              "      <td>75544.0</td>\n",
              "      <td>115526.0</td>\n",
              "      <td>450000.0</td>\n",
              "    </tr>\n",
              "    <tr>\n",
              "      <th>2021</th>\n",
              "      <td>215.0</td>\n",
              "      <td>99430.41</td>\n",
              "      <td>80304.32</td>\n",
              "      <td>2859.0</td>\n",
              "      <td>50000.0</td>\n",
              "      <td>82528.0</td>\n",
              "      <td>135000.0</td>\n",
              "      <td>600000.0</td>\n",
              "    </tr>\n",
              "    <tr>\n",
              "      <th>2022</th>\n",
              "      <td>278.0</td>\n",
              "      <td>123089.10</td>\n",
              "      <td>59888.93</td>\n",
              "      <td>10000.0</td>\n",
              "      <td>78791.0</td>\n",
              "      <td>120000.0</td>\n",
              "      <td>160000.0</td>\n",
              "      <td>405000.0</td>\n",
              "    </tr>\n",
              "  </tbody>\n",
              "</table>\n",
              "</div>"
            ],
            "text/plain": [
              "           count       mean       std      min      25%       50%       75%  \\\n",
              "work_year                                                                     \n",
              "2020        72.0   95813.00  82831.80   5707.0  45724.5   75544.0  115526.0   \n",
              "2021       215.0   99430.41  80304.32   2859.0  50000.0   82528.0  135000.0   \n",
              "2022       278.0  123089.10  59888.93  10000.0  78791.0  120000.0  160000.0   \n",
              "\n",
              "                max  \n",
              "work_year            \n",
              "2020       450000.0  \n",
              "2021       600000.0  \n",
              "2022       405000.0  "
            ]
          },
          "execution_count": 21,
          "metadata": {},
          "output_type": "execute_result"
        }
      ],
      "source": [
        "data_agg = data.groupby('work_year')['salary_in_usd'].describe().round(2)\n",
        "print('Денежное содержание в зависимости от года')\n",
        "data_agg"
      ]
    },
    {
      "cell_type": "markdown",
      "metadata": {
        "id": "QnoG6XTK_fOH"
      },
      "source": [
        "На первый взгляд распределения размер заработных выплат в зависиости от года различны. Чтобы определить, являются ли эти различия статистически значимыми, в следующем разделе мы проведём статистическое тестирование."
      ]
    },
    {
      "cell_type": "markdown",
      "metadata": {
        "id": "crI7PFP0TpDI"
      },
      "source": [
        "### Зарплатные выплаты в зависимости от размера компании."
      ]
    },
    {
      "cell_type": "code",
      "execution_count": null,
      "metadata": {
        "colab": {
          "base_uri": "https://localhost:8080/",
          "height": 480
        },
        "id": "SkPmlfj7S9BL",
        "outputId": "00283144-aa01-43c9-9ee4-b0a38efc3f84"
      },
      "outputs": [
        {
          "name": "stderr",
          "output_type": "stream",
          "text": [
            "c:\\Python310\\lib\\site-packages\\seaborn\\_oldcore.py:1498: FutureWarning: is_categorical_dtype is deprecated and will be removed in a future version. Use isinstance(dtype, CategoricalDtype) instead\n",
            "  if pd.api.types.is_categorical_dtype(vector):\n",
            "c:\\Python310\\lib\\site-packages\\seaborn\\_oldcore.py:1498: FutureWarning: is_categorical_dtype is deprecated and will be removed in a future version. Use isinstance(dtype, CategoricalDtype) instead\n",
            "  if pd.api.types.is_categorical_dtype(vector):\n",
            "c:\\Python310\\lib\\site-packages\\seaborn\\_oldcore.py:1498: FutureWarning: is_categorical_dtype is deprecated and will be removed in a future version. Use isinstance(dtype, CategoricalDtype) instead\n",
            "  if pd.api.types.is_categorical_dtype(vector):\n"
          ]
        },
        {
          "data": {
            "image/png": "[encoded data removed]",
            "text/plain": [
              "<Figure size 640x480 with 1 Axes>"
            ]
          },
          "metadata": {},
          "output_type": "display_data"
        }
      ],
      "source": [
        "ax = sns.boxplot(data, x='salary_in_usd', y='company_size', orient='h', medianprops={\"color\": \"red\", \"linestyle\": '--'})\n",
        "ax.set(xlabel='Размер зарплатных выплат', ylabel='Размер компании')\n",
        "plt.title('Распределение зарплатных выплат в зависимости от размера компании')\n",
        "plt.show()"
      ]
    },
    {
      "cell_type": "code",
      "execution_count": null,
      "metadata": {
        "colab": {
          "base_uri": "https://localhost:8080/",
          "height": 161
        },
        "id": "yeXQdZzQS9BL",
        "outputId": "452b6af6-f003-4332-8d79-cffcaa4f8fb8"
      },
      "outputs": [
        {
          "name": "stdout",
          "output_type": "stream",
          "text": [
            "зарплатные выплаты в зависимости от размера компании\n"
          ]
        },
        {
          "data": {
            "text/html": [
              "<div>\n",
              "<style scoped>\n",
              "    .dataframe tbody tr th:only-of-type {\n",
              "        vertical-align: middle;\n",
              "    }\n",
              "\n",
              "    .dataframe tbody tr th {\n",
              "        vertical-align: top;\n",
              "    }\n",
              "\n",
              "    .dataframe thead th {\n",
              "        text-align: right;\n",
              "    }\n",
              "</style>\n",
              "<table border=\"1\" class=\"dataframe\">\n",
              "  <thead>\n",
              "    <tr style=\"text-align: right;\">\n",
              "      <th></th>\n",
              "      <th>count</th>\n",
              "      <th>mean</th>\n",
              "      <th>std</th>\n",
              "      <th>min</th>\n",
              "      <th>25%</th>\n",
              "      <th>50%</th>\n",
              "      <th>75%</th>\n",
              "      <th>max</th>\n",
              "    </tr>\n",
              "    <tr>\n",
              "      <th>company_size</th>\n",
              "      <th></th>\n",
              "      <th></th>\n",
              "      <th></th>\n",
              "      <th></th>\n",
              "      <th></th>\n",
              "      <th></th>\n",
              "      <th></th>\n",
              "      <th></th>\n",
              "    </tr>\n",
              "  </thead>\n",
              "  <tbody>\n",
              "    <tr>\n",
              "      <th>L</th>\n",
              "      <td>193.0</td>\n",
              "      <td>118213.88</td>\n",
              "      <td>86753.27</td>\n",
              "      <td>5882.0</td>\n",
              "      <td>60000.0</td>\n",
              "      <td>100000.0</td>\n",
              "      <td>153667.00</td>\n",
              "      <td>600000.0</td>\n",
              "    </tr>\n",
              "    <tr>\n",
              "      <th>M</th>\n",
              "      <td>290.0</td>\n",
              "      <td>114807.08</td>\n",
              "      <td>60779.04</td>\n",
              "      <td>4000.0</td>\n",
              "      <td>70821.5</td>\n",
              "      <td>109640.0</td>\n",
              "      <td>150213.75</td>\n",
              "      <td>450000.0</td>\n",
              "    </tr>\n",
              "    <tr>\n",
              "      <th>S</th>\n",
              "      <td>82.0</td>\n",
              "      <td>77872.10</td>\n",
              "      <td>63814.52</td>\n",
              "      <td>2859.0</td>\n",
              "      <td>41816.0</td>\n",
              "      <td>65511.0</td>\n",
              "      <td>100000.00</td>\n",
              "      <td>416000.0</td>\n",
              "    </tr>\n",
              "  </tbody>\n",
              "</table>\n",
              "</div>"
            ],
            "text/plain": [
              "              count       mean       std     min      25%       50%  \\\n",
              "company_size                                                          \n",
              "L             193.0  118213.88  86753.27  5882.0  60000.0  100000.0   \n",
              "M             290.0  114807.08  60779.04  4000.0  70821.5  109640.0   \n",
              "S              82.0   77872.10  63814.52  2859.0  41816.0   65511.0   \n",
              "\n",
              "                    75%       max  \n",
              "company_size                       \n",
              "L             153667.00  600000.0  \n",
              "M             150213.75  450000.0  \n",
              "S             100000.00  416000.0  "
            ]
          },
          "execution_count": 23,
          "metadata": {},
          "output_type": "execute_result"
        }
      ],
      "source": [
        "data_agg = data.groupby('company_size')['salary_in_usd'].describe().round(2)\n",
        "print('зарплатные выплаты в зависимости от размера компании')\n",
        "data_agg"
      ]
    },
    {
      "cell_type": "markdown",
      "metadata": {
        "id": "zK_jL2gjS9BL"
      },
      "source": [
        "Распределения заработных выплат различны в зависимости от размера компании. Чтобы определить, являются ли эти различия статистически значимыми, в следующем разделе мы проведём статистические тесты."
      ]
    },
    {
      "cell_type": "markdown",
      "metadata": {
        "id": "y5MHyfPTTshb"
      },
      "source": [
        "### Зарплатные выплаты в зависимости от местонахождения компании"
      ]
    },
    {
      "cell_type": "code",
      "execution_count": null,
      "metadata": {
        "colab": {
          "base_uri": "https://localhost:8080/",
          "height": 480
        },
        "id": "denXZIElwzvO",
        "outputId": "5101be0d-2e82-4126-ab69-ffc179b1626b"
      },
      "outputs": [
        {
          "name": "stderr",
          "output_type": "stream",
          "text": [
            "c:\\Python310\\lib\\site-packages\\seaborn\\_oldcore.py:1498: FutureWarning: is_categorical_dtype is deprecated and will be removed in a future version. Use isinstance(dtype, CategoricalDtype) instead\n",
            "  if pd.api.types.is_categorical_dtype(vector):\n",
            "c:\\Python310\\lib\\site-packages\\seaborn\\_oldcore.py:1498: FutureWarning: is_categorical_dtype is deprecated and will be removed in a future version. Use isinstance(dtype, CategoricalDtype) instead\n",
            "  if pd.api.types.is_categorical_dtype(vector):\n",
            "c:\\Python310\\lib\\site-packages\\seaborn\\_oldcore.py:1498: FutureWarning: is_categorical_dtype is deprecated and will be removed in a future version. Use isinstance(dtype, CategoricalDtype) instead\n",
            "  if pd.api.types.is_categorical_dtype(vector):\n"
          ]
        },
        {
          "data": {
            "image/png": "[encoded data removed]",
            "text/plain": [
              "<Figure size 640x480 with 1 Axes>"
            ]
          },
          "metadata": {},
          "output_type": "display_data"
        }
      ],
      "source": [
        "ax = sns.boxplot(data, x='salary_in_usd', y='company_location', orient='h', medianprops={\"color\": \"red\", \"linestyle\": '--'})\n",
        "ax.set(xlabel='Размер заработных выплат', ylabel='Страна')\n",
        "plt.title('Распределение заработных выплат по местонахождению компании')\n",
        "plt.show()"
      ]
    },
    {
      "cell_type": "code",
      "execution_count": null,
      "metadata": {
        "colab": {
          "base_uri": "https://localhost:8080/",
          "height": 223
        },
        "id": "xfI208tHwz6T",
        "outputId": "af1e6d3f-7417-4633-814a-353507e9104f"
      },
      "outputs": [
        {
          "name": "stdout",
          "output_type": "stream",
          "text": [
            "Распределение заработных выплат по местонахождению компании\n"
          ]
        },
        {
          "data": {
            "text/html": [
              "<div>\n",
              "<style scoped>\n",
              "    .dataframe tbody tr th:only-of-type {\n",
              "        vertical-align: middle;\n",
              "    }\n",
              "\n",
              "    .dataframe tbody tr th {\n",
              "        vertical-align: top;\n",
              "    }\n",
              "\n",
              "    .dataframe thead th {\n",
              "        text-align: right;\n",
              "    }\n",
              "</style>\n",
              "<table border=\"1\" class=\"dataframe\">\n",
              "  <thead>\n",
              "    <tr style=\"text-align: right;\">\n",
              "      <th></th>\n",
              "      <th>count</th>\n",
              "      <th>mean</th>\n",
              "      <th>std</th>\n",
              "      <th>min</th>\n",
              "      <th>25%</th>\n",
              "      <th>50%</th>\n",
              "      <th>75%</th>\n",
              "      <th>max</th>\n",
              "    </tr>\n",
              "    <tr>\n",
              "      <th>company_location</th>\n",
              "      <th></th>\n",
              "      <th></th>\n",
              "      <th></th>\n",
              "      <th></th>\n",
              "      <th></th>\n",
              "      <th></th>\n",
              "      <th></th>\n",
              "      <th></th>\n",
              "    </tr>\n",
              "  </thead>\n",
              "  <tbody>\n",
              "    <tr>\n",
              "      <th>AE</th>\n",
              "      <td>3.0</td>\n",
              "      <td>100000.00</td>\n",
              "      <td>30413.81</td>\n",
              "      <td>65000.0</td>\n",
              "      <td>90000.00</td>\n",
              "      <td>115000.0</td>\n",
              "      <td>117500.00</td>\n",
              "      <td>120000.0</td>\n",
              "    </tr>\n",
              "    <tr>\n",
              "      <th>AS</th>\n",
              "      <td>1.0</td>\n",
              "      <td>18053.00</td>\n",
              "      <td>NaN</td>\n",
              "      <td>18053.0</td>\n",
              "      <td>18053.00</td>\n",
              "      <td>18053.0</td>\n",
              "      <td>18053.00</td>\n",
              "      <td>18053.0</td>\n",
              "    </tr>\n",
              "    <tr>\n",
              "      <th>AT</th>\n",
              "      <td>4.0</td>\n",
              "      <td>72920.75</td>\n",
              "      <td>13332.78</td>\n",
              "      <td>61467.0</td>\n",
              "      <td>64003.50</td>\n",
              "      <td>69489.5</td>\n",
              "      <td>78406.75</td>\n",
              "      <td>91237.0</td>\n",
              "    </tr>\n",
              "    <tr>\n",
              "      <th>AU</th>\n",
              "      <td>3.0</td>\n",
              "      <td>108042.67</td>\n",
              "      <td>36337.91</td>\n",
              "      <td>86703.0</td>\n",
              "      <td>87064.00</td>\n",
              "      <td>87425.0</td>\n",
              "      <td>118712.50</td>\n",
              "      <td>150000.0</td>\n",
              "    </tr>\n",
              "    <tr>\n",
              "      <th>BE</th>\n",
              "      <td>2.0</td>\n",
              "      <td>85699.00</td>\n",
              "      <td>4179.00</td>\n",
              "      <td>82744.0</td>\n",
              "      <td>84221.50</td>\n",
              "      <td>85699.0</td>\n",
              "      <td>87176.50</td>\n",
              "      <td>88654.0</td>\n",
              "    </tr>\n",
              "    <tr>\n",
              "      <th>BR</th>\n",
              "      <td>3.0</td>\n",
              "      <td>18602.67</td>\n",
              "      <td>5555.76</td>\n",
              "      <td>12901.0</td>\n",
              "      <td>15904.00</td>\n",
              "      <td>18907.0</td>\n",
              "      <td>21453.50</td>\n",
              "      <td>24000.0</td>\n",
              "    </tr>\n",
              "    <tr>\n",
              "      <th>CA</th>\n",
              "      <td>28.0</td>\n",
              "      <td>100121.86</td>\n",
              "      <td>47080.71</td>\n",
              "      <td>52000.0</td>\n",
              "      <td>70518.00</td>\n",
              "      <td>81895.5</td>\n",
              "      <td>117374.75</td>\n",
              "      <td>225000.0</td>\n",
              "    </tr>\n",
              "    <tr>\n",
              "      <th>CH</th>\n",
              "      <td>2.0</td>\n",
              "      <td>64114.00</td>\n",
              "      <td>82352.48</td>\n",
              "      <td>5882.0</td>\n",
              "      <td>34998.00</td>\n",
              "      <td>64114.0</td>\n",
              "      <td>93230.00</td>\n",
              "      <td>122346.0</td>\n",
              "    </tr>\n",
              "    <tr>\n",
              "      <th>CL</th>\n",
              "      <td>1.0</td>\n",
              "      <td>40038.00</td>\n",
              "      <td>NaN</td>\n",
              "      <td>40038.0</td>\n",
              "      <td>40038.00</td>\n",
              "      <td>40038.0</td>\n",
              "      <td>40038.00</td>\n",
              "      <td>40038.0</td>\n",
              "    </tr>\n",
              "    <tr>\n",
              "      <th>CN</th>\n",
              "      <td>2.0</td>\n",
              "      <td>71665.50</td>\n",
              "      <td>40071.03</td>\n",
              "      <td>43331.0</td>\n",
              "      <td>57498.25</td>\n",
              "      <td>71665.5</td>\n",
              "      <td>85832.75</td>\n",
              "      <td>100000.0</td>\n",
              "    </tr>\n",
              "    <tr>\n",
              "      <th>CO</th>\n",
              "      <td>1.0</td>\n",
              "      <td>21844.00</td>\n",
              "      <td>NaN</td>\n",
              "      <td>21844.0</td>\n",
              "      <td>21844.00</td>\n",
              "      <td>21844.0</td>\n",
              "      <td>21844.00</td>\n",
              "      <td>21844.0</td>\n",
              "    </tr>\n",
              "    <tr>\n",
              "      <th>CZ</th>\n",
              "      <td>2.0</td>\n",
              "      <td>50937.00</td>\n",
              "      <td>26957.74</td>\n",
              "      <td>31875.0</td>\n",
              "      <td>41406.00</td>\n",
              "      <td>50937.0</td>\n",
              "      <td>60468.00</td>\n",
              "      <td>69999.0</td>\n",
              "    </tr>\n",
              "    <tr>\n",
              "      <th>DE</th>\n",
              "      <td>27.0</td>\n",
              "      <td>81559.56</td>\n",
              "      <td>39903.44</td>\n",
              "      <td>15966.0</td>\n",
              "      <td>58669.00</td>\n",
              "      <td>76833.0</td>\n",
              "      <td>89694.00</td>\n",
              "      <td>173762.0</td>\n",
              "    </tr>\n",
              "    <tr>\n",
              "      <th>DK</th>\n",
              "      <td>3.0</td>\n",
              "      <td>54386.33</td>\n",
              "      <td>30909.79</td>\n",
              "      <td>28609.0</td>\n",
              "      <td>37252.50</td>\n",
              "      <td>45896.0</td>\n",
              "      <td>67275.00</td>\n",
              "      <td>88654.0</td>\n",
              "    </tr>\n",
              "    <tr>\n",
              "      <th>DZ</th>\n",
              "      <td>1.0</td>\n",
              "      <td>100000.00</td>\n",
              "      <td>NaN</td>\n",
              "      <td>100000.0</td>\n",
              "      <td>100000.00</td>\n",
              "      <td>100000.0</td>\n",
              "      <td>100000.00</td>\n",
              "      <td>100000.0</td>\n",
              "    </tr>\n",
              "    <tr>\n",
              "      <th>EE</th>\n",
              "      <td>1.0</td>\n",
              "      <td>32974.00</td>\n",
              "      <td>NaN</td>\n",
              "      <td>32974.0</td>\n",
              "      <td>32974.00</td>\n",
              "      <td>32974.0</td>\n",
              "      <td>32974.00</td>\n",
              "      <td>32974.0</td>\n",
              "    </tr>\n",
              "    <tr>\n",
              "      <th>ES</th>\n",
              "      <td>14.0</td>\n",
              "      <td>53060.14</td>\n",
              "      <td>21090.92</td>\n",
              "      <td>10354.0</td>\n",
              "      <td>40073.50</td>\n",
              "      <td>48371.5</td>\n",
              "      <td>68793.00</td>\n",
              "      <td>87932.0</td>\n",
              "    </tr>\n",
              "    <tr>\n",
              "      <th>FR</th>\n",
              "      <td>15.0</td>\n",
              "      <td>63970.67</td>\n",
              "      <td>28679.63</td>\n",
              "      <td>36643.0</td>\n",
              "      <td>48202.50</td>\n",
              "      <td>56738.0</td>\n",
              "      <td>69143.00</td>\n",
              "      <td>152000.0</td>\n",
              "    </tr>\n",
              "    <tr>\n",
              "      <th>GB</th>\n",
              "      <td>46.0</td>\n",
              "      <td>81649.50</td>\n",
              "      <td>29846.70</td>\n",
              "      <td>37300.0</td>\n",
              "      <td>56915.50</td>\n",
              "      <td>78526.0</td>\n",
              "      <td>104316.50</td>\n",
              "      <td>183228.0</td>\n",
              "    </tr>\n",
              "    <tr>\n",
              "      <th>GR</th>\n",
              "      <td>10.0</td>\n",
              "      <td>52026.70</td>\n",
              "      <td>20357.15</td>\n",
              "      <td>20000.0</td>\n",
              "      <td>41133.25</td>\n",
              "      <td>48680.0</td>\n",
              "      <td>63201.00</td>\n",
              "      <td>87932.0</td>\n",
              "    </tr>\n",
              "    <tr>\n",
              "      <th>HN</th>\n",
              "      <td>1.0</td>\n",
              "      <td>20000.00</td>\n",
              "      <td>NaN</td>\n",
              "      <td>20000.0</td>\n",
              "      <td>20000.00</td>\n",
              "      <td>20000.0</td>\n",
              "      <td>20000.00</td>\n",
              "      <td>20000.0</td>\n",
              "    </tr>\n",
              "    <tr>\n",
              "      <th>HR</th>\n",
              "      <td>1.0</td>\n",
              "      <td>45618.00</td>\n",
              "      <td>NaN</td>\n",
              "      <td>45618.0</td>\n",
              "      <td>45618.00</td>\n",
              "      <td>45618.0</td>\n",
              "      <td>45618.00</td>\n",
              "      <td>45618.0</td>\n",
              "    </tr>\n",
              "    <tr>\n",
              "      <th>HU</th>\n",
              "      <td>1.0</td>\n",
              "      <td>35735.00</td>\n",
              "      <td>NaN</td>\n",
              "      <td>35735.0</td>\n",
              "      <td>35735.00</td>\n",
              "      <td>35735.0</td>\n",
              "      <td>35735.00</td>\n",
              "      <td>35735.0</td>\n",
              "    </tr>\n",
              "    <tr>\n",
              "      <th>IE</th>\n",
              "      <td>1.0</td>\n",
              "      <td>71444.00</td>\n",
              "      <td>NaN</td>\n",
              "      <td>71444.0</td>\n",
              "      <td>71444.00</td>\n",
              "      <td>71444.0</td>\n",
              "      <td>71444.00</td>\n",
              "      <td>71444.0</td>\n",
              "    </tr>\n",
              "    <tr>\n",
              "      <th>IL</th>\n",
              "      <td>1.0</td>\n",
              "      <td>119059.00</td>\n",
              "      <td>NaN</td>\n",
              "      <td>119059.0</td>\n",
              "      <td>119059.00</td>\n",
              "      <td>119059.0</td>\n",
              "      <td>119059.00</td>\n",
              "      <td>119059.0</td>\n",
              "    </tr>\n",
              "    <tr>\n",
              "      <th>IN</th>\n",
              "      <td>24.0</td>\n",
              "      <td>28581.75</td>\n",
              "      <td>22697.67</td>\n",
              "      <td>5409.0</td>\n",
              "      <td>16735.00</td>\n",
              "      <td>22124.0</td>\n",
              "      <td>32163.25</td>\n",
              "      <td>94665.0</td>\n",
              "    </tr>\n",
              "    <tr>\n",
              "      <th>IQ</th>\n",
              "      <td>1.0</td>\n",
              "      <td>100000.00</td>\n",
              "      <td>NaN</td>\n",
              "      <td>100000.0</td>\n",
              "      <td>100000.00</td>\n",
              "      <td>100000.0</td>\n",
              "      <td>100000.00</td>\n",
              "      <td>100000.0</td>\n",
              "    </tr>\n",
              "    <tr>\n",
              "      <th>IR</th>\n",
              "      <td>1.0</td>\n",
              "      <td>4000.00</td>\n",
              "      <td>NaN</td>\n",
              "      <td>4000.0</td>\n",
              "      <td>4000.00</td>\n",
              "      <td>4000.0</td>\n",
              "      <td>4000.00</td>\n",
              "      <td>4000.0</td>\n",
              "    </tr>\n",
              "    <tr>\n",
              "      <th>IT</th>\n",
              "      <td>2.0</td>\n",
              "      <td>36366.50</td>\n",
              "      <td>20785.40</td>\n",
              "      <td>21669.0</td>\n",
              "      <td>29017.75</td>\n",
              "      <td>36366.5</td>\n",
              "      <td>43715.25</td>\n",
              "      <td>51064.0</td>\n",
              "    </tr>\n",
              "    <tr>\n",
              "      <th>JP</th>\n",
              "      <td>6.0</td>\n",
              "      <td>114127.33</td>\n",
              "      <td>83584.64</td>\n",
              "      <td>41689.0</td>\n",
              "      <td>66283.25</td>\n",
              "      <td>75682.0</td>\n",
              "      <td>145341.00</td>\n",
              "      <td>260000.0</td>\n",
              "    </tr>\n",
              "    <tr>\n",
              "      <th>KE</th>\n",
              "      <td>1.0</td>\n",
              "      <td>9272.00</td>\n",
              "      <td>NaN</td>\n",
              "      <td>9272.0</td>\n",
              "      <td>9272.00</td>\n",
              "      <td>9272.0</td>\n",
              "      <td>9272.00</td>\n",
              "      <td>9272.0</td>\n",
              "    </tr>\n",
              "    <tr>\n",
              "      <th>LU</th>\n",
              "      <td>3.0</td>\n",
              "      <td>43942.67</td>\n",
              "      <td>29451.01</td>\n",
              "      <td>10000.0</td>\n",
              "      <td>34551.00</td>\n",
              "      <td>59102.0</td>\n",
              "      <td>60914.00</td>\n",
              "      <td>62726.0</td>\n",
              "    </tr>\n",
              "    <tr>\n",
              "      <th>MD</th>\n",
              "      <td>1.0</td>\n",
              "      <td>18000.00</td>\n",
              "      <td>NaN</td>\n",
              "      <td>18000.0</td>\n",
              "      <td>18000.00</td>\n",
              "      <td>18000.0</td>\n",
              "      <td>18000.00</td>\n",
              "      <td>18000.0</td>\n",
              "    </tr>\n",
              "    <tr>\n",
              "      <th>MT</th>\n",
              "      <td>1.0</td>\n",
              "      <td>28369.00</td>\n",
              "      <td>NaN</td>\n",
              "      <td>28369.0</td>\n",
              "      <td>28369.00</td>\n",
              "      <td>28369.0</td>\n",
              "      <td>28369.00</td>\n",
              "      <td>28369.0</td>\n",
              "    </tr>\n",
              "    <tr>\n",
              "      <th>MX</th>\n",
              "      <td>3.0</td>\n",
              "      <td>32123.33</td>\n",
              "      <td>28595.76</td>\n",
              "      <td>2859.0</td>\n",
              "      <td>18185.00</td>\n",
              "      <td>33511.0</td>\n",
              "      <td>46755.50</td>\n",
              "      <td>60000.0</td>\n",
              "    </tr>\n",
              "    <tr>\n",
              "      <th>MY</th>\n",
              "      <td>1.0</td>\n",
              "      <td>40000.00</td>\n",
              "      <td>NaN</td>\n",
              "      <td>40000.0</td>\n",
              "      <td>40000.00</td>\n",
              "      <td>40000.0</td>\n",
              "      <td>40000.00</td>\n",
              "      <td>40000.0</td>\n",
              "    </tr>\n",
              "    <tr>\n",
              "      <th>NG</th>\n",
              "      <td>2.0</td>\n",
              "      <td>30000.00</td>\n",
              "      <td>28284.27</td>\n",
              "      <td>10000.0</td>\n",
              "      <td>20000.00</td>\n",
              "      <td>30000.0</td>\n",
              "      <td>40000.00</td>\n",
              "      <td>50000.0</td>\n",
              "    </tr>\n",
              "    <tr>\n",
              "      <th>NL</th>\n",
              "      <td>4.0</td>\n",
              "      <td>54945.75</td>\n",
              "      <td>13381.03</td>\n",
              "      <td>42000.0</td>\n",
              "      <td>44543.25</td>\n",
              "      <td>54021.0</td>\n",
              "      <td>64423.50</td>\n",
              "      <td>69741.0</td>\n",
              "    </tr>\n",
              "    <tr>\n",
              "      <th>NZ</th>\n",
              "      <td>1.0</td>\n",
              "      <td>125000.00</td>\n",
              "      <td>NaN</td>\n",
              "      <td>125000.0</td>\n",
              "      <td>125000.00</td>\n",
              "      <td>125000.0</td>\n",
              "      <td>125000.00</td>\n",
              "      <td>125000.0</td>\n",
              "    </tr>\n",
              "    <tr>\n",
              "      <th>PK</th>\n",
              "      <td>3.0</td>\n",
              "      <td>13333.33</td>\n",
              "      <td>6110.10</td>\n",
              "      <td>8000.0</td>\n",
              "      <td>10000.00</td>\n",
              "      <td>12000.0</td>\n",
              "      <td>16000.00</td>\n",
              "      <td>20000.0</td>\n",
              "    </tr>\n",
              "    <tr>\n",
              "      <th>PL</th>\n",
              "      <td>4.0</td>\n",
              "      <td>66082.50</td>\n",
              "      <td>58863.60</td>\n",
              "      <td>28476.0</td>\n",
              "      <td>33811.50</td>\n",
              "      <td>41093.5</td>\n",
              "      <td>73364.50</td>\n",
              "      <td>153667.0</td>\n",
              "    </tr>\n",
              "    <tr>\n",
              "      <th>PT</th>\n",
              "      <td>4.0</td>\n",
              "      <td>47793.75</td>\n",
              "      <td>17789.25</td>\n",
              "      <td>21983.0</td>\n",
              "      <td>43130.75</td>\n",
              "      <td>54217.5</td>\n",
              "      <td>58880.50</td>\n",
              "      <td>60757.0</td>\n",
              "    </tr>\n",
              "    <tr>\n",
              "      <th>RO</th>\n",
              "      <td>1.0</td>\n",
              "      <td>60000.00</td>\n",
              "      <td>NaN</td>\n",
              "      <td>60000.0</td>\n",
              "      <td>60000.00</td>\n",
              "      <td>60000.0</td>\n",
              "      <td>60000.00</td>\n",
              "      <td>60000.0</td>\n",
              "    </tr>\n",
              "    <tr>\n",
              "      <th>RU</th>\n",
              "      <td>2.0</td>\n",
              "      <td>157500.00</td>\n",
              "      <td>102530.48</td>\n",
              "      <td>85000.0</td>\n",
              "      <td>121250.00</td>\n",
              "      <td>157500.0</td>\n",
              "      <td>193750.00</td>\n",
              "      <td>230000.0</td>\n",
              "    </tr>\n",
              "    <tr>\n",
              "      <th>SG</th>\n",
              "      <td>1.0</td>\n",
              "      <td>89294.00</td>\n",
              "      <td>NaN</td>\n",
              "      <td>89294.0</td>\n",
              "      <td>89294.00</td>\n",
              "      <td>89294.0</td>\n",
              "      <td>89294.00</td>\n",
              "      <td>89294.0</td>\n",
              "    </tr>\n",
              "    <tr>\n",
              "      <th>SI</th>\n",
              "      <td>2.0</td>\n",
              "      <td>63831.00</td>\n",
              "      <td>55165.64</td>\n",
              "      <td>24823.0</td>\n",
              "      <td>44327.00</td>\n",
              "      <td>63831.0</td>\n",
              "      <td>83335.00</td>\n",
              "      <td>102839.0</td>\n",
              "    </tr>\n",
              "    <tr>\n",
              "      <th>TR</th>\n",
              "      <td>3.0</td>\n",
              "      <td>20096.67</td>\n",
              "      <td>7956.76</td>\n",
              "      <td>12103.0</td>\n",
              "      <td>16137.00</td>\n",
              "      <td>20171.0</td>\n",
              "      <td>24093.50</td>\n",
              "      <td>28016.0</td>\n",
              "    </tr>\n",
              "    <tr>\n",
              "      <th>UA</th>\n",
              "      <td>1.0</td>\n",
              "      <td>13400.00</td>\n",
              "      <td>NaN</td>\n",
              "      <td>13400.0</td>\n",
              "      <td>13400.00</td>\n",
              "      <td>13400.0</td>\n",
              "      <td>13400.00</td>\n",
              "      <td>13400.0</td>\n",
              "    </tr>\n",
              "    <tr>\n",
              "      <th>US</th>\n",
              "      <td>318.0</td>\n",
              "      <td>144292.99</td>\n",
              "      <td>72524.34</td>\n",
              "      <td>5679.0</td>\n",
              "      <td>100000.00</td>\n",
              "      <td>135000.0</td>\n",
              "      <td>173000.00</td>\n",
              "      <td>600000.0</td>\n",
              "    </tr>\n",
              "    <tr>\n",
              "      <th>VN</th>\n",
              "      <td>1.0</td>\n",
              "      <td>4000.00</td>\n",
              "      <td>NaN</td>\n",
              "      <td>4000.0</td>\n",
              "      <td>4000.00</td>\n",
              "      <td>4000.0</td>\n",
              "      <td>4000.00</td>\n",
              "      <td>4000.0</td>\n",
              "    </tr>\n",
              "  </tbody>\n",
              "</table>\n",
              "</div>"
            ],
            "text/plain": [
              "                  count       mean        std       min        25%       50%  \\\n",
              "company_location                                                               \n",
              "AE                  3.0  100000.00   30413.81   65000.0   90000.00  115000.0   \n",
              "AS                  1.0   18053.00        NaN   18053.0   18053.00   18053.0   \n",
              "AT                  4.0   72920.75   13332.78   61467.0   64003.50   69489.5   \n",
              "AU                  3.0  108042.67   36337.91   86703.0   87064.00   87425.0   \n",
              "BE                  2.0   85699.00    4179.00   82744.0   84221.50   85699.0   \n",
              "BR                  3.0   18602.67    5555.76   12901.0   15904.00   18907.0   \n",
              "CA                 28.0  100121.86   47080.71   52000.0   70518.00   81895.5   \n",
              "CH                  2.0   64114.00   82352.48    5882.0   34998.00   64114.0   \n",
              "CL                  1.0   40038.00        NaN   40038.0   40038.00   40038.0   \n",
              "CN                  2.0   71665.50   40071.03   43331.0   57498.25   71665.5   \n",
              "CO                  1.0   21844.00        NaN   21844.0   21844.00   21844.0   \n",
              "CZ                  2.0   50937.00   26957.74   31875.0   41406.00   50937.0   \n",
              "DE                 27.0   81559.56   39903.44   15966.0   58669.00   76833.0   \n",
              "DK                  3.0   54386.33   30909.79   28609.0   37252.50   45896.0   \n",
              "DZ                  1.0  100000.00        NaN  100000.0  100000.00  100000.0   \n",
              "EE                  1.0   32974.00        NaN   32974.0   32974.00   32974.0   \n",
              "ES                 14.0   53060.14   21090.92   10354.0   40073.50   48371.5   \n",
              "FR                 15.0   63970.67   28679.63   36643.0   48202.50   56738.0   \n",
              "GB                 46.0   81649.50   29846.70   37300.0   56915.50   78526.0   \n",
              "GR                 10.0   52026.70   20357.15   20000.0   41133.25   48680.0   \n",
              "HN                  1.0   20000.00        NaN   20000.0   20000.00   20000.0   \n",
              "HR                  1.0   45618.00        NaN   45618.0   45618.00   45618.0   \n",
              "HU                  1.0   35735.00        NaN   35735.0   35735.00   35735.0   \n",
              "IE                  1.0   71444.00        NaN   71444.0   71444.00   71444.0   \n",
              "IL                  1.0  119059.00        NaN  119059.0  119059.00  119059.0   \n",
              "IN                 24.0   28581.75   22697.67    5409.0   16735.00   22124.0   \n",
              "IQ                  1.0  100000.00        NaN  100000.0  100000.00  100000.0   \n",
              "IR                  1.0    4000.00        NaN    4000.0    4000.00    4000.0   \n",
              "IT                  2.0   36366.50   20785.40   21669.0   29017.75   36366.5   \n",
              "JP                  6.0  114127.33   83584.64   41689.0   66283.25   75682.0   \n",
              "KE                  1.0    9272.00        NaN    9272.0    9272.00    9272.0   \n",
              "LU                  3.0   43942.67   29451.01   10000.0   34551.00   59102.0   \n",
              "MD                  1.0   18000.00        NaN   18000.0   18000.00   18000.0   \n",
              "MT                  1.0   28369.00        NaN   28369.0   28369.00   28369.0   \n",
              "MX                  3.0   32123.33   28595.76    2859.0   18185.00   33511.0   \n",
              "MY                  1.0   40000.00        NaN   40000.0   40000.00   40000.0   \n",
              "NG                  2.0   30000.00   28284.27   10000.0   20000.00   30000.0   \n",
              "NL                  4.0   54945.75   13381.03   42000.0   44543.25   54021.0   \n",
              "NZ                  1.0  125000.00        NaN  125000.0  125000.00  125000.0   \n",
              "PK                  3.0   13333.33    6110.10    8000.0   10000.00   12000.0   \n",
              "PL                  4.0   66082.50   58863.60   28476.0   33811.50   41093.5   \n",
              "PT                  4.0   47793.75   17789.25   21983.0   43130.75   54217.5   \n",
              "RO                  1.0   60000.00        NaN   60000.0   60000.00   60000.0   \n",
              "RU                  2.0  157500.00  102530.48   85000.0  121250.00  157500.0   \n",
              "SG                  1.0   89294.00        NaN   89294.0   89294.00   89294.0   \n",
              "SI                  2.0   63831.00   55165.64   24823.0   44327.00   63831.0   \n",
              "TR                  3.0   20096.67    7956.76   12103.0   16137.00   20171.0   \n",
              "UA                  1.0   13400.00        NaN   13400.0   13400.00   13400.0   \n",
              "US                318.0  144292.99   72524.34    5679.0  100000.00  135000.0   \n",
              "VN                  1.0    4000.00        NaN    4000.0    4000.00    4000.0   \n",
              "\n",
              "                        75%       max  \n",
              "company_location                       \n",
              "AE                117500.00  120000.0  \n",
              "AS                 18053.00   18053.0  \n",
              "AT                 78406.75   91237.0  \n",
              "AU                118712.50  150000.0  \n",
              "BE                 87176.50   88654.0  \n",
              "BR                 21453.50   24000.0  \n",
              "CA                117374.75  225000.0  \n",
              "CH                 93230.00  122346.0  \n",
              "CL                 40038.00   40038.0  \n",
              "CN                 85832.75  100000.0  \n",
              "CO                 21844.00   21844.0  \n",
              "CZ                 60468.00   69999.0  \n",
              "DE                 89694.00  173762.0  \n",
              "DK                 67275.00   88654.0  \n",
              "DZ                100000.00  100000.0  \n",
              "EE                 32974.00   32974.0  \n",
              "ES                 68793.00   87932.0  \n",
              "FR                 69143.00  152000.0  \n",
              "GB                104316.50  183228.0  \n",
              "GR                 63201.00   87932.0  \n",
              "HN                 20000.00   20000.0  \n",
              "HR                 45618.00   45618.0  \n",
              "HU                 35735.00   35735.0  \n",
              "IE                 71444.00   71444.0  \n",
              "IL                119059.00  119059.0  \n",
              "IN                 32163.25   94665.0  \n",
              "IQ                100000.00  100000.0  \n",
              "IR                  4000.00    4000.0  \n",
              "IT                 43715.25   51064.0  \n",
              "JP                145341.00  260000.0  \n",
              "KE                  9272.00    9272.0  \n",
              "LU                 60914.00   62726.0  \n",
              "MD                 18000.00   18000.0  \n",
              "MT                 28369.00   28369.0  \n",
              "MX                 46755.50   60000.0  \n",
              "MY                 40000.00   40000.0  \n",
              "NG                 40000.00   50000.0  \n",
              "NL                 64423.50   69741.0  \n",
              "NZ                125000.00  125000.0  \n",
              "PK                 16000.00   20000.0  \n",
              "PL                 73364.50  153667.0  \n",
              "PT                 58880.50   60757.0  \n",
              "RO                 60000.00   60000.0  \n",
              "RU                193750.00  230000.0  \n",
              "SG                 89294.00   89294.0  \n",
              "SI                 83335.00  102839.0  \n",
              "TR                 24093.50   28016.0  \n",
              "UA                 13400.00   13400.0  \n",
              "US                173000.00  600000.0  \n",
              "VN                  4000.00    4000.0  "
            ]
          },
          "execution_count": 25,
          "metadata": {},
          "output_type": "execute_result"
        }
      ],
      "source": [
        "data_agg = data.groupby('company_location')['salary_in_usd'].describe().round(2)\n",
        "print('Распределение заработных выплат по местонахождению компании')\n",
        "data_agg"
      ]
    },
    {
      "cell_type": "markdown",
      "metadata": {
        "id": "y_SC_018yS76"
      },
      "source": [
        "Распределения заработных выплат различны для разных компаний с учетом их местонахождения. Чтобы определить, являются ли эти различия статистически значимыми, в следующем разделе мы проведём статистические тесты."
      ]
    },
    {
      "cell_type": "markdown",
      "metadata": {},
      "source": [
        "### Зарплатные выплаты в зависимости от опыта работы"
      ]
    },
    {
      "cell_type": "code",
      "execution_count": null,
      "metadata": {},
      "outputs": [
        {
          "name": "stderr",
          "output_type": "stream",
          "text": [
            "c:\\Python310\\lib\\site-packages\\seaborn\\_oldcore.py:1498: FutureWarning: is_categorical_dtype is deprecated and will be removed in a future version. Use isinstance(dtype, CategoricalDtype) instead\n",
            "  if pd.api.types.is_categorical_dtype(vector):\n",
            "c:\\Python310\\lib\\site-packages\\seaborn\\_oldcore.py:1498: FutureWarning: is_categorical_dtype is deprecated and will be removed in a future version. Use isinstance(dtype, CategoricalDtype) instead\n",
            "  if pd.api.types.is_categorical_dtype(vector):\n",
            "c:\\Python310\\lib\\site-packages\\seaborn\\_oldcore.py:1498: FutureWarning: is_categorical_dtype is deprecated and will be removed in a future version. Use isinstance(dtype, CategoricalDtype) instead\n",
            "  if pd.api.types.is_categorical_dtype(vector):\n"
          ]
        },
        {
          "data": {
            "image/png": "[encoded data removed]",
            "text/plain": [
              "<Figure size 640x480 with 1 Axes>"
            ]
          },
          "metadata": {},
          "output_type": "display_data"
        }
      ],
      "source": [
        "ax = sns.boxplot(data, x='salary_in_usd', y='experience_level', orient='h', medianprops={\"color\": \"red\", \"linestyle\": '--'})\n",
        "ax.set(xlabel='Размер заработных выплат', ylabel='Опыт работы')\n",
        "plt.title('Распределение заработных выплат от опыта работы')\n",
        "plt.show()"
      ]
    },
    {
      "cell_type": "code",
      "execution_count": null,
      "metadata": {},
      "outputs": [
        {
          "name": "stdout",
          "output_type": "stream",
          "text": [
            "Распределение заработных выплат от опыта работы\n"
          ]
        },
        {
          "data": {
            "text/html": [
              "<div>\n",
              "<style scoped>\n",
              "    .dataframe tbody tr th:only-of-type {\n",
              "        vertical-align: middle;\n",
              "    }\n",
              "\n",
              "    .dataframe tbody tr th {\n",
              "        vertical-align: top;\n",
              "    }\n",
              "\n",
              "    .dataframe thead th {\n",
              "        text-align: right;\n",
              "    }\n",
              "</style>\n",
              "<table border=\"1\" class=\"dataframe\">\n",
              "  <thead>\n",
              "    <tr style=\"text-align: right;\">\n",
              "      <th></th>\n",
              "      <th>count</th>\n",
              "      <th>mean</th>\n",
              "      <th>std</th>\n",
              "      <th>min</th>\n",
              "      <th>25%</th>\n",
              "      <th>50%</th>\n",
              "      <th>75%</th>\n",
              "      <th>max</th>\n",
              "    </tr>\n",
              "    <tr>\n",
              "      <th>experience_level</th>\n",
              "      <th></th>\n",
              "      <th></th>\n",
              "      <th></th>\n",
              "      <th></th>\n",
              "      <th></th>\n",
              "      <th></th>\n",
              "      <th></th>\n",
              "      <th></th>\n",
              "    </tr>\n",
              "  </thead>\n",
              "  <tbody>\n",
              "    <tr>\n",
              "      <th>EN</th>\n",
              "      <td>88.0</td>\n",
              "      <td>61643.32</td>\n",
              "      <td>44395.54</td>\n",
              "      <td>4000.0</td>\n",
              "      <td>27505.00</td>\n",
              "      <td>56500.0</td>\n",
              "      <td>85425.75</td>\n",
              "      <td>250000.0</td>\n",
              "    </tr>\n",
              "    <tr>\n",
              "      <th>EX</th>\n",
              "      <td>26.0</td>\n",
              "      <td>199392.04</td>\n",
              "      <td>117071.26</td>\n",
              "      <td>69741.0</td>\n",
              "      <td>130006.50</td>\n",
              "      <td>171437.5</td>\n",
              "      <td>233750.00</td>\n",
              "      <td>600000.0</td>\n",
              "    </tr>\n",
              "    <tr>\n",
              "      <th>MI</th>\n",
              "      <td>208.0</td>\n",
              "      <td>87793.00</td>\n",
              "      <td>64118.97</td>\n",
              "      <td>2859.0</td>\n",
              "      <td>47163.75</td>\n",
              "      <td>76940.0</td>\n",
              "      <td>112075.00</td>\n",
              "      <td>450000.0</td>\n",
              "    </tr>\n",
              "    <tr>\n",
              "      <th>SE</th>\n",
              "      <td>243.0</td>\n",
              "      <td>138374.88</td>\n",
              "      <td>59955.97</td>\n",
              "      <td>18907.0</td>\n",
              "      <td>99531.50</td>\n",
              "      <td>135000.0</td>\n",
              "      <td>171881.00</td>\n",
              "      <td>412000.0</td>\n",
              "    </tr>\n",
              "  </tbody>\n",
              "</table>\n",
              "</div>"
            ],
            "text/plain": [
              "                  count       mean        std      min        25%       50%  \\\n",
              "experience_level                                                              \n",
              "EN                 88.0   61643.32   44395.54   4000.0   27505.00   56500.0   \n",
              "EX                 26.0  199392.04  117071.26  69741.0  130006.50  171437.5   \n",
              "MI                208.0   87793.00   64118.97   2859.0   47163.75   76940.0   \n",
              "SE                243.0  138374.88   59955.97  18907.0   99531.50  135000.0   \n",
              "\n",
              "                        75%       max  \n",
              "experience_level                       \n",
              "EN                 85425.75  250000.0  \n",
              "EX                233750.00  600000.0  \n",
              "MI                112075.00  450000.0  \n",
              "SE                171881.00  412000.0  "
            ]
          },
          "execution_count": 27,
          "metadata": {},
          "output_type": "execute_result"
        }
      ],
      "source": [
        "data_agg = data.groupby('experience_level')['salary_in_usd'].describe().round(2)\n",
        "print('Распределение заработных выплат от опыта работы')\n",
        "data_agg"
      ]
    },
    {
      "cell_type": "markdown",
      "metadata": {},
      "source": [
        "Распределения заработных выплат различны в зависимости от опыта работы по занимаемой должности. Чтобы определить, являются ли эти различия статистически значимыми, в следующем разделе мы проведём статистические тесты."
      ]
    },
    {
      "cell_type": "markdown",
      "metadata": {
        "id": "GlJ2fclcl7Zd"
      },
      "source": [
        "### Соотношение денежных выплат специалистов категории Data Scientist Data Engineer в зависимости от года, опыта работы и размера компании"
      ]
    },
    {
      "cell_type": "code",
      "execution_count": null,
      "metadata": {},
      "outputs": [
        {
          "name": "stdout",
          "output_type": "stream",
          "text": [
            "Зависимость зарплат Data Scientist от опыта работы и размера компании\n"
          ]
        },
        {
          "data": {
            "text/html": [
              "<div>\n",
              "<style scoped>\n",
              "    .dataframe tbody tr th:only-of-type {\n",
              "        vertical-align: middle;\n",
              "    }\n",
              "\n",
              "    .dataframe tbody tr th {\n",
              "        vertical-align: top;\n",
              "    }\n",
              "\n",
              "    .dataframe thead th {\n",
              "        text-align: right;\n",
              "    }\n",
              "</style>\n",
              "<table border=\"1\" class=\"dataframe\">\n",
              "  <thead>\n",
              "    <tr style=\"text-align: right;\">\n",
              "      <th></th>\n",
              "      <th></th>\n",
              "      <th>count</th>\n",
              "      <th>mean</th>\n",
              "      <th>std</th>\n",
              "      <th>min</th>\n",
              "      <th>25%</th>\n",
              "      <th>50%</th>\n",
              "      <th>75%</th>\n",
              "      <th>max</th>\n",
              "    </tr>\n",
              "    <tr>\n",
              "      <th>experience_level</th>\n",
              "      <th>company_size</th>\n",
              "      <th></th>\n",
              "      <th></th>\n",
              "      <th></th>\n",
              "      <th></th>\n",
              "      <th></th>\n",
              "      <th></th>\n",
              "      <th></th>\n",
              "      <th></th>\n",
              "    </tr>\n",
              "  </thead>\n",
              "  <tbody>\n",
              "    <tr>\n",
              "      <th rowspan=\"3\" valign=\"top\">EN</th>\n",
              "      <th>L</th>\n",
              "      <td>6.0</td>\n",
              "      <td>38365.0</td>\n",
              "      <td>16034.0</td>\n",
              "      <td>13400.0</td>\n",
              "      <td>31474.0</td>\n",
              "      <td>38322.0</td>\n",
              "      <td>49297.0</td>\n",
              "      <td>58000.0</td>\n",
              "    </tr>\n",
              "    <tr>\n",
              "      <th>M</th>\n",
              "      <td>9.0</td>\n",
              "      <td>56345.0</td>\n",
              "      <td>36341.0</td>\n",
              "      <td>4000.0</td>\n",
              "      <td>28399.0</td>\n",
              "      <td>49646.0</td>\n",
              "      <td>86703.0</td>\n",
              "      <td>100000.0</td>\n",
              "    </tr>\n",
              "    <tr>\n",
              "      <th>S</th>\n",
              "      <td>7.0</td>\n",
              "      <td>68569.0</td>\n",
              "      <td>30763.0</td>\n",
              "      <td>21669.0</td>\n",
              "      <td>50294.0</td>\n",
              "      <td>62726.0</td>\n",
              "      <td>95000.0</td>\n",
              "      <td>105000.0</td>\n",
              "    </tr>\n",
              "    <tr>\n",
              "      <th rowspan=\"3\" valign=\"top\">MI</th>\n",
              "      <th>L</th>\n",
              "      <td>22.0</td>\n",
              "      <td>85263.0</td>\n",
              "      <td>40580.0</td>\n",
              "      <td>31615.0</td>\n",
              "      <td>42861.0</td>\n",
              "      <td>84244.0</td>\n",
              "      <td>116436.0</td>\n",
              "      <td>160000.0</td>\n",
              "    </tr>\n",
              "    <tr>\n",
              "      <th>M</th>\n",
              "      <td>25.0</td>\n",
              "      <td>100973.0</td>\n",
              "      <td>46420.0</td>\n",
              "      <td>33808.0</td>\n",
              "      <td>65438.0</td>\n",
              "      <td>100000.0</td>\n",
              "      <td>130000.0</td>\n",
              "      <td>200000.0</td>\n",
              "    </tr>\n",
              "    <tr>\n",
              "      <th>S</th>\n",
              "      <td>12.0</td>\n",
              "      <td>35957.0</td>\n",
              "      <td>27898.0</td>\n",
              "      <td>2859.0</td>\n",
              "      <td>12042.0</td>\n",
              "      <td>33864.0</td>\n",
              "      <td>51682.0</td>\n",
              "      <td>82500.0</td>\n",
              "    </tr>\n",
              "    <tr>\n",
              "      <th rowspan=\"3\" valign=\"top\">SE</th>\n",
              "      <th>L</th>\n",
              "      <td>15.0</td>\n",
              "      <td>154132.0</td>\n",
              "      <td>91928.0</td>\n",
              "      <td>20171.0</td>\n",
              "      <td>111846.0</td>\n",
              "      <td>140400.0</td>\n",
              "      <td>192650.0</td>\n",
              "      <td>412000.0</td>\n",
              "    </tr>\n",
              "    <tr>\n",
              "      <th>M</th>\n",
              "      <td>32.0</td>\n",
              "      <td>152934.0</td>\n",
              "      <td>45392.0</td>\n",
              "      <td>77684.0</td>\n",
              "      <td>119567.0</td>\n",
              "      <td>148000.0</td>\n",
              "      <td>180000.0</td>\n",
              "      <td>260000.0</td>\n",
              "    </tr>\n",
              "    <tr>\n",
              "      <th>S</th>\n",
              "      <td>2.0</td>\n",
              "      <td>89488.0</td>\n",
              "      <td>2474.0</td>\n",
              "      <td>87738.0</td>\n",
              "      <td>88613.0</td>\n",
              "      <td>89488.0</td>\n",
              "      <td>90362.0</td>\n",
              "      <td>91237.0</td>\n",
              "    </tr>\n",
              "  </tbody>\n",
              "</table>\n",
              "</div>"
            ],
            "text/plain": [
              "                               count      mean      std      min       25%  \\\n",
              "experience_level company_size                                                \n",
              "EN               L               6.0   38365.0  16034.0  13400.0   31474.0   \n",
              "                 M               9.0   56345.0  36341.0   4000.0   28399.0   \n",
              "                 S               7.0   68569.0  30763.0  21669.0   50294.0   \n",
              "MI               L              22.0   85263.0  40580.0  31615.0   42861.0   \n",
              "                 M              25.0  100973.0  46420.0  33808.0   65438.0   \n",
              "                 S              12.0   35957.0  27898.0   2859.0   12042.0   \n",
              "SE               L              15.0  154132.0  91928.0  20171.0  111846.0   \n",
              "                 M              32.0  152934.0  45392.0  77684.0  119567.0   \n",
              "                 S               2.0   89488.0   2474.0  87738.0   88613.0   \n",
              "\n",
              "                                    50%       75%       max  \n",
              "experience_level company_size                                \n",
              "EN               L              38322.0   49297.0   58000.0  \n",
              "                 M              49646.0   86703.0  100000.0  \n",
              "                 S              62726.0   95000.0  105000.0  \n",
              "MI               L              84244.0  116436.0  160000.0  \n",
              "                 M             100000.0  130000.0  200000.0  \n",
              "                 S              33864.0   51682.0   82500.0  \n",
              "SE               L             140400.0  192650.0  412000.0  \n",
              "                 M             148000.0  180000.0  260000.0  \n",
              "                 S              89488.0   90362.0   91237.0  "
            ]
          },
          "execution_count": 28,
          "metadata": {},
          "output_type": "execute_result"
        }
      ],
      "source": [
        "data_scientist = data[data['job_title'] == 'Data Scientist']\n",
        "data_agg = data_scientist.groupby(['experience_level', 'company_size'])['salary_in_usd'].describe().round()\n",
        "print('Зависимость зарплат Data Scientist от опыта работы и размера компании')\n",
        "data_agg    "
      ]
    },
    {
      "cell_type": "code",
      "execution_count": null,
      "metadata": {},
      "outputs": [
        {
          "data": {
            "image/png": "[encoded data removed]",
            "text/plain": [
              "<Figure size 640x480 with 2 Axes>"
            ]
          },
          "metadata": {},
          "output_type": "display_data"
        }
      ],
      "source": [
        "cross_tab = pd.crosstab(index=data_scientist['experience_level'], columns=data['company_size'])\n",
        "ax = sns.heatmap(cross_tab, annot=True, linewidth=.5, fmt='.0f', cmap=\"coolwarm\")\n",
        "ax.set(xlabel='Размер компании', ylabel='Опыт специалиста')\n",
        "ax.set_xticklabels(['Большие', 'Средние', 'Маленькие'])\n",
        "ax.set_yticklabels(['Entry', 'Middle', 'Senior'])\n",
        "plt.title('Распределение вакансий Data Scientist в зависимости от опыта и размера компании')\n",
        "plt.show()"
      ]
    },
    {
      "cell_type": "code",
      "execution_count": null,
      "metadata": {},
      "outputs": [
        {
          "name": "stdout",
          "output_type": "stream",
          "text": [
            "Распределение зарплат Data Scientist от опыта работы в зависимости от года\n"
          ]
        },
        {
          "data": {
            "text/html": [
              "<div>\n",
              "<style scoped>\n",
              "    .dataframe tbody tr th:only-of-type {\n",
              "        vertical-align: middle;\n",
              "    }\n",
              "\n",
              "    .dataframe tbody tr th {\n",
              "        vertical-align: top;\n",
              "    }\n",
              "\n",
              "    .dataframe thead th {\n",
              "        text-align: right;\n",
              "    }\n",
              "</style>\n",
              "<table border=\"1\" class=\"dataframe\">\n",
              "  <thead>\n",
              "    <tr style=\"text-align: right;\">\n",
              "      <th></th>\n",
              "      <th></th>\n",
              "      <th>count</th>\n",
              "      <th>mean</th>\n",
              "      <th>std</th>\n",
              "      <th>min</th>\n",
              "      <th>25%</th>\n",
              "      <th>50%</th>\n",
              "      <th>75%</th>\n",
              "      <th>max</th>\n",
              "    </tr>\n",
              "    <tr>\n",
              "      <th>experience_level</th>\n",
              "      <th>work_year</th>\n",
              "      <th></th>\n",
              "      <th></th>\n",
              "      <th></th>\n",
              "      <th></th>\n",
              "      <th></th>\n",
              "      <th></th>\n",
              "      <th></th>\n",
              "      <th></th>\n",
              "    </tr>\n",
              "  </thead>\n",
              "  <tbody>\n",
              "    <tr>\n",
              "      <th rowspan=\"3\" valign=\"top\">EN</th>\n",
              "      <th>2020</th>\n",
              "      <td>6.0</td>\n",
              "      <td>54983.0</td>\n",
              "      <td>28088.0</td>\n",
              "      <td>21669.0</td>\n",
              "      <td>42254.0</td>\n",
              "      <td>50294.0</td>\n",
              "      <td>59875.0</td>\n",
              "      <td>105000.0</td>\n",
              "    </tr>\n",
              "    <tr>\n",
              "      <th>2021</th>\n",
              "      <td>11.0</td>\n",
              "      <td>53622.0</td>\n",
              "      <td>34540.0</td>\n",
              "      <td>4000.0</td>\n",
              "      <td>29075.0</td>\n",
              "      <td>49646.0</td>\n",
              "      <td>85000.0</td>\n",
              "      <td>100000.0</td>\n",
              "    </tr>\n",
              "    <tr>\n",
              "      <th>2022</th>\n",
              "      <td>5.0</td>\n",
              "      <td>59508.0</td>\n",
              "      <td>33529.0</td>\n",
              "      <td>18442.0</td>\n",
              "      <td>40000.0</td>\n",
              "      <td>52396.0</td>\n",
              "      <td>86703.0</td>\n",
              "      <td>100000.0</td>\n",
              "    </tr>\n",
              "    <tr>\n",
              "      <th rowspan=\"3\" valign=\"top\">MI</th>\n",
              "      <th>2020</th>\n",
              "      <td>11.0</td>\n",
              "      <td>71256.0</td>\n",
              "      <td>35724.0</td>\n",
              "      <td>35735.0</td>\n",
              "      <td>41339.0</td>\n",
              "      <td>62726.0</td>\n",
              "      <td>92416.0</td>\n",
              "      <td>138350.0</td>\n",
              "    </tr>\n",
              "    <tr>\n",
              "      <th>2021</th>\n",
              "      <td>26.0</td>\n",
              "      <td>71430.0</td>\n",
              "      <td>48131.0</td>\n",
              "      <td>2859.0</td>\n",
              "      <td>34812.0</td>\n",
              "      <td>67234.0</td>\n",
              "      <td>113500.0</td>\n",
              "      <td>160000.0</td>\n",
              "    </tr>\n",
              "    <tr>\n",
              "      <th>2022</th>\n",
              "      <td>22.0</td>\n",
              "      <td>99574.0</td>\n",
              "      <td>47753.0</td>\n",
              "      <td>31615.0</td>\n",
              "      <td>66412.0</td>\n",
              "      <td>95807.0</td>\n",
              "      <td>130000.0</td>\n",
              "      <td>200000.0</td>\n",
              "    </tr>\n",
              "    <tr>\n",
              "      <th rowspan=\"3\" valign=\"top\">SE</th>\n",
              "      <th>2020</th>\n",
              "      <td>4.0</td>\n",
              "      <td>172916.0</td>\n",
              "      <td>160780.0</td>\n",
              "      <td>68428.0</td>\n",
              "      <td>85535.0</td>\n",
              "      <td>105618.0</td>\n",
              "      <td>193000.0</td>\n",
              "      <td>412000.0</td>\n",
              "    </tr>\n",
              "    <tr>\n",
              "      <th>2021</th>\n",
              "      <td>7.0</td>\n",
              "      <td>91782.0</td>\n",
              "      <td>48653.0</td>\n",
              "      <td>20171.0</td>\n",
              "      <td>65438.0</td>\n",
              "      <td>87738.0</td>\n",
              "      <td>119346.0</td>\n",
              "      <td>165000.0</td>\n",
              "    </tr>\n",
              "    <tr>\n",
              "      <th>2022</th>\n",
              "      <td>38.0</td>\n",
              "      <td>159229.0</td>\n",
              "      <td>43256.0</td>\n",
              "      <td>80000.0</td>\n",
              "      <td>126405.0</td>\n",
              "      <td>154100.0</td>\n",
              "      <td>183825.0</td>\n",
              "      <td>260000.0</td>\n",
              "    </tr>\n",
              "  </tbody>\n",
              "</table>\n",
              "</div>"
            ],
            "text/plain": [
              "                            count      mean       std      min       25%  \\\n",
              "experience_level work_year                                                 \n",
              "EN               2020         6.0   54983.0   28088.0  21669.0   42254.0   \n",
              "                 2021        11.0   53622.0   34540.0   4000.0   29075.0   \n",
              "                 2022         5.0   59508.0   33529.0  18442.0   40000.0   \n",
              "MI               2020        11.0   71256.0   35724.0  35735.0   41339.0   \n",
              "                 2021        26.0   71430.0   48131.0   2859.0   34812.0   \n",
              "                 2022        22.0   99574.0   47753.0  31615.0   66412.0   \n",
              "SE               2020         4.0  172916.0  160780.0  68428.0   85535.0   \n",
              "                 2021         7.0   91782.0   48653.0  20171.0   65438.0   \n",
              "                 2022        38.0  159229.0   43256.0  80000.0  126405.0   \n",
              "\n",
              "                                 50%       75%       max  \n",
              "experience_level work_year                                \n",
              "EN               2020        50294.0   59875.0  105000.0  \n",
              "                 2021        49646.0   85000.0  100000.0  \n",
              "                 2022        52396.0   86703.0  100000.0  \n",
              "MI               2020        62726.0   92416.0  138350.0  \n",
              "                 2021        67234.0  113500.0  160000.0  \n",
              "                 2022        95807.0  130000.0  200000.0  \n",
              "SE               2020       105618.0  193000.0  412000.0  \n",
              "                 2021        87738.0  119346.0  165000.0  \n",
              "                 2022       154100.0  183825.0  260000.0  "
            ]
          },
          "execution_count": 30,
          "metadata": {},
          "output_type": "execute_result"
        }
      ],
      "source": [
        "data_scientist = data[data['job_title'] == 'Data Scientist']\n",
        "data_agg = data_scientist.groupby(['experience_level', 'work_year'])['salary_in_usd'].describe().round()\n",
        "print('Распределение зарплат Data Scientist от опыта работы в зависимости от года')\n",
        "data_agg "
      ]
    },
    {
      "cell_type": "markdown",
      "metadata": {},
      "source": [
        "Вывод: Прирост зарплат по специальности Data Scientist наблюдается пр максимальных значениях по опыту работы middle. В остальных случаях утверждать о приросте некорректно."
      ]
    },
    {
      "cell_type": "code",
      "execution_count": null,
      "metadata": {},
      "outputs": [
        {
          "data": {
            "image/png": "[encoded data removed]",
            "text/plain": [
              "<Figure size 640x480 with 2 Axes>"
            ]
          },
          "metadata": {},
          "output_type": "display_data"
        }
      ],
      "source": [
        "cross_tab = pd.crosstab(index=data_scientist['work_year'], columns=data['company_size'])\n",
        "ax = sns.heatmap(cross_tab, annot=True, linewidth=.5, fmt='.0f', cmap=\"coolwarm\")\n",
        "ax.set(xlabel='Размер компании', ylabel='Год')\n",
        "ax.set_xticklabels(['Большие', 'Средние', 'Маленькие'])\n",
        "ax.set_yticklabels(['2020', '2021', '2022'])\n",
        "plt.title('Распределение вакансий Data Scientist в зависимости от опыта и размера компании')\n",
        "plt.show()"
      ]
    },
    {
      "cell_type": "code",
      "execution_count": null,
      "metadata": {},
      "outputs": [
        {
          "name": "stdout",
          "output_type": "stream",
          "text": [
            "Зависимость зарплат Data Engineer от опыта работы и размера компании\n"
          ]
        },
        {
          "data": {
            "text/html": [
              "<div>\n",
              "<style scoped>\n",
              "    .dataframe tbody tr th:only-of-type {\n",
              "        vertical-align: middle;\n",
              "    }\n",
              "\n",
              "    .dataframe tbody tr th {\n",
              "        vertical-align: top;\n",
              "    }\n",
              "\n",
              "    .dataframe thead th {\n",
              "        text-align: right;\n",
              "    }\n",
              "</style>\n",
              "<table border=\"1\" class=\"dataframe\">\n",
              "  <thead>\n",
              "    <tr style=\"text-align: right;\">\n",
              "      <th></th>\n",
              "      <th></th>\n",
              "      <th>count</th>\n",
              "      <th>mean</th>\n",
              "      <th>std</th>\n",
              "      <th>min</th>\n",
              "      <th>25%</th>\n",
              "      <th>50%</th>\n",
              "      <th>75%</th>\n",
              "      <th>max</th>\n",
              "    </tr>\n",
              "    <tr>\n",
              "      <th>experience_level</th>\n",
              "      <th>company_size</th>\n",
              "      <th></th>\n",
              "      <th></th>\n",
              "      <th></th>\n",
              "      <th></th>\n",
              "      <th></th>\n",
              "      <th></th>\n",
              "      <th></th>\n",
              "      <th></th>\n",
              "    </tr>\n",
              "  </thead>\n",
              "  <tbody>\n",
              "    <tr>\n",
              "      <th rowspan=\"3\" valign=\"top\">EN</th>\n",
              "      <th>L</th>\n",
              "      <td>4.0</td>\n",
              "      <td>59418.0</td>\n",
              "      <td>22038.0</td>\n",
              "      <td>30428.0</td>\n",
              "      <td>48664.0</td>\n",
              "      <td>63621.0</td>\n",
              "      <td>74375.0</td>\n",
              "      <td>80000.0</td>\n",
              "    </tr>\n",
              "    <tr>\n",
              "      <th>M</th>\n",
              "      <td>6.0</td>\n",
              "      <td>60474.0</td>\n",
              "      <td>32739.0</td>\n",
              "      <td>21637.0</td>\n",
              "      <td>47443.0</td>\n",
              "      <td>55193.0</td>\n",
              "      <td>63268.0</td>\n",
              "      <td>120000.0</td>\n",
              "    </tr>\n",
              "    <tr>\n",
              "      <th>S</th>\n",
              "      <td>2.0</td>\n",
              "      <td>53344.0</td>\n",
              "      <td>16483.0</td>\n",
              "      <td>41689.0</td>\n",
              "      <td>47517.0</td>\n",
              "      <td>53344.0</td>\n",
              "      <td>59172.0</td>\n",
              "      <td>65000.0</td>\n",
              "    </tr>\n",
              "    <tr>\n",
              "      <th>EX</th>\n",
              "      <th>M</th>\n",
              "      <td>4.0</td>\n",
              "      <td>245500.0</td>\n",
              "      <td>55121.0</td>\n",
              "      <td>200000.0</td>\n",
              "      <td>212000.0</td>\n",
              "      <td>229000.0</td>\n",
              "      <td>262500.0</td>\n",
              "      <td>324000.0</td>\n",
              "    </tr>\n",
              "    <tr>\n",
              "      <th rowspan=\"3\" valign=\"top\">MI</th>\n",
              "      <th>L</th>\n",
              "      <td>20.0</td>\n",
              "      <td>82641.0</td>\n",
              "      <td>44073.0</td>\n",
              "      <td>20000.0</td>\n",
              "      <td>52566.0</td>\n",
              "      <td>78329.0</td>\n",
              "      <td>110000.0</td>\n",
              "      <td>200000.0</td>\n",
              "    </tr>\n",
              "    <tr>\n",
              "      <th>M</th>\n",
              "      <td>30.0</td>\n",
              "      <td>85329.0</td>\n",
              "      <td>42458.0</td>\n",
              "      <td>4000.0</td>\n",
              "      <td>64412.0</td>\n",
              "      <td>80713.0</td>\n",
              "      <td>98864.0</td>\n",
              "      <td>206699.0</td>\n",
              "    </tr>\n",
              "    <tr>\n",
              "      <th>S</th>\n",
              "      <td>1.0</td>\n",
              "      <td>66022.0</td>\n",
              "      <td>NaN</td>\n",
              "      <td>66022.0</td>\n",
              "      <td>66022.0</td>\n",
              "      <td>66022.0</td>\n",
              "      <td>66022.0</td>\n",
              "      <td>66022.0</td>\n",
              "    </tr>\n",
              "    <tr>\n",
              "      <th rowspan=\"3\" valign=\"top\">SE</th>\n",
              "      <th>L</th>\n",
              "      <td>10.0</td>\n",
              "      <td>140328.0</td>\n",
              "      <td>49835.0</td>\n",
              "      <td>47899.0</td>\n",
              "      <td>103850.0</td>\n",
              "      <td>152300.0</td>\n",
              "      <td>177700.0</td>\n",
              "      <td>209100.0</td>\n",
              "    </tr>\n",
              "    <tr>\n",
              "      <th>M</th>\n",
              "      <td>41.0</td>\n",
              "      <td>138615.0</td>\n",
              "      <td>47188.0</td>\n",
              "      <td>25000.0</td>\n",
              "      <td>108800.0</td>\n",
              "      <td>136994.0</td>\n",
              "      <td>165000.0</td>\n",
              "      <td>243900.0</td>\n",
              "    </tr>\n",
              "    <tr>\n",
              "      <th>S</th>\n",
              "      <td>3.0</td>\n",
              "      <td>75115.0</td>\n",
              "      <td>40772.0</td>\n",
              "      <td>33511.0</td>\n",
              "      <td>55172.0</td>\n",
              "      <td>76833.0</td>\n",
              "      <td>95916.0</td>\n",
              "      <td>115000.0</td>\n",
              "    </tr>\n",
              "  </tbody>\n",
              "</table>\n",
              "</div>"
            ],
            "text/plain": [
              "                               count      mean      std       min       25%  \\\n",
              "experience_level company_size                                                 \n",
              "EN               L               4.0   59418.0  22038.0   30428.0   48664.0   \n",
              "                 M               6.0   60474.0  32739.0   21637.0   47443.0   \n",
              "                 S               2.0   53344.0  16483.0   41689.0   47517.0   \n",
              "EX               M               4.0  245500.0  55121.0  200000.0  212000.0   \n",
              "MI               L              20.0   82641.0  44073.0   20000.0   52566.0   \n",
              "                 M              30.0   85329.0  42458.0    4000.0   64412.0   \n",
              "                 S               1.0   66022.0      NaN   66022.0   66022.0   \n",
              "SE               L              10.0  140328.0  49835.0   47899.0  103850.0   \n",
              "                 M              41.0  138615.0  47188.0   25000.0  108800.0   \n",
              "                 S               3.0   75115.0  40772.0   33511.0   55172.0   \n",
              "\n",
              "                                    50%       75%       max  \n",
              "experience_level company_size                                \n",
              "EN               L              63621.0   74375.0   80000.0  \n",
              "                 M              55193.0   63268.0  120000.0  \n",
              "                 S              53344.0   59172.0   65000.0  \n",
              "EX               M             229000.0  262500.0  324000.0  \n",
              "MI               L              78329.0  110000.0  200000.0  \n",
              "                 M              80713.0   98864.0  206699.0  \n",
              "                 S              66022.0   66022.0   66022.0  \n",
              "SE               L             152300.0  177700.0  209100.0  \n",
              "                 M             136994.0  165000.0  243900.0  \n",
              "                 S              76833.0   95916.0  115000.0  "
            ]
          },
          "execution_count": 32,
          "metadata": {},
          "output_type": "execute_result"
        }
      ],
      "source": [
        "data_engineer = data[data['job_title'] == 'Data Engineer']\n",
        "data_agg = data_engineer.groupby(['experience_level', 'company_size'])['salary_in_usd'].describe().round()\n",
        "print('Зависимость зарплат Data Engineer от опыта работы и размера компании')\n",
        "data_agg   "
      ]
    },
    {
      "cell_type": "code",
      "execution_count": null,
      "metadata": {},
      "outputs": [
        {
          "data": {
            "image/png": "[encoded data removed]",
            "text/plain": [
              "<Figure size 640x480 with 2 Axes>"
            ]
          },
          "metadata": {},
          "output_type": "display_data"
        }
      ],
      "source": [
        "cross_tab = pd.crosstab(index=data_engineer['experience_level'], columns=data['company_size'])\n",
        "ax = sns.heatmap(cross_tab, annot=True, linewidth=.5, fmt='.0f', cmap=\"coolwarm\")\n",
        "ax.set(xlabel='Размер компании', ylabel='Опыт специалиста')\n",
        "ax.set_xticklabels(['Большие', 'Средние', 'Маленькие'])\n",
        "ax.set_yticklabels(['Entry', 'Middle', 'Senior', 'Executive'])\n",
        "plt.title('Распределение вакансий Data Engineer в зависимости от опыта и размера компании')\n",
        "plt.show()"
      ]
    },
    {
      "cell_type": "code",
      "execution_count": null,
      "metadata": {},
      "outputs": [
        {
          "name": "stdout",
          "output_type": "stream",
          "text": [
            "Распределение зарплат Data Engineer от опыта работы в зависимости по годам\n"
          ]
        },
        {
          "data": {
            "text/html": [
              "<div>\n",
              "<style scoped>\n",
              "    .dataframe tbody tr th:only-of-type {\n",
              "        vertical-align: middle;\n",
              "    }\n",
              "\n",
              "    .dataframe tbody tr th {\n",
              "        vertical-align: top;\n",
              "    }\n",
              "\n",
              "    .dataframe thead th {\n",
              "        text-align: right;\n",
              "    }\n",
              "</style>\n",
              "<table border=\"1\" class=\"dataframe\">\n",
              "  <thead>\n",
              "    <tr style=\"text-align: right;\">\n",
              "      <th></th>\n",
              "      <th></th>\n",
              "      <th>count</th>\n",
              "      <th>mean</th>\n",
              "      <th>std</th>\n",
              "      <th>min</th>\n",
              "      <th>25%</th>\n",
              "      <th>50%</th>\n",
              "      <th>75%</th>\n",
              "      <th>max</th>\n",
              "    </tr>\n",
              "    <tr>\n",
              "      <th>experience_level</th>\n",
              "      <th>work_year</th>\n",
              "      <th></th>\n",
              "      <th></th>\n",
              "      <th></th>\n",
              "      <th></th>\n",
              "      <th></th>\n",
              "      <th></th>\n",
              "      <th></th>\n",
              "      <th></th>\n",
              "    </tr>\n",
              "  </thead>\n",
              "  <tbody>\n",
              "    <tr>\n",
              "      <th rowspan=\"3\" valign=\"top\">EN</th>\n",
              "      <th>2020</th>\n",
              "      <td>2.0</td>\n",
              "      <td>48216.0</td>\n",
              "      <td>9230.0</td>\n",
              "      <td>41689.0</td>\n",
              "      <td>44952.0</td>\n",
              "      <td>48216.0</td>\n",
              "      <td>51479.0</td>\n",
              "      <td>54742.0</td>\n",
              "    </tr>\n",
              "    <tr>\n",
              "      <th>2021</th>\n",
              "      <td>5.0</td>\n",
              "      <td>53916.0</td>\n",
              "      <td>26184.0</td>\n",
              "      <td>21637.0</td>\n",
              "      <td>30428.0</td>\n",
              "      <td>65013.0</td>\n",
              "      <td>72500.0</td>\n",
              "      <td>80000.0</td>\n",
              "    </tr>\n",
              "    <tr>\n",
              "      <th>2022</th>\n",
              "      <td>5.0</td>\n",
              "      <td>68239.0</td>\n",
              "      <td>29789.0</td>\n",
              "      <td>45807.0</td>\n",
              "      <td>52351.0</td>\n",
              "      <td>58035.0</td>\n",
              "      <td>65000.0</td>\n",
              "      <td>120000.0</td>\n",
              "    </tr>\n",
              "    <tr>\n",
              "      <th>EX</th>\n",
              "      <th>2022</th>\n",
              "      <td>4.0</td>\n",
              "      <td>245500.0</td>\n",
              "      <td>55121.0</td>\n",
              "      <td>200000.0</td>\n",
              "      <td>212000.0</td>\n",
              "      <td>229000.0</td>\n",
              "      <td>262500.0</td>\n",
              "      <td>324000.0</td>\n",
              "    </tr>\n",
              "    <tr>\n",
              "      <th rowspan=\"3\" valign=\"top\">MI</th>\n",
              "      <th>2020</th>\n",
              "      <td>6.0</td>\n",
              "      <td>100657.0</td>\n",
              "      <td>23701.0</td>\n",
              "      <td>70139.0</td>\n",
              "      <td>82098.0</td>\n",
              "      <td>108000.0</td>\n",
              "      <td>112154.0</td>\n",
              "      <td>130800.0</td>\n",
              "    </tr>\n",
              "    <tr>\n",
              "      <th>2021</th>\n",
              "      <td>20.0</td>\n",
              "      <td>71989.0</td>\n",
              "      <td>49637.0</td>\n",
              "      <td>4000.0</td>\n",
              "      <td>28281.0</td>\n",
              "      <td>70976.0</td>\n",
              "      <td>102500.0</td>\n",
              "      <td>200000.0</td>\n",
              "    </tr>\n",
              "    <tr>\n",
              "      <th>2022</th>\n",
              "      <td>25.0</td>\n",
              "      <td>89399.0</td>\n",
              "      <td>38022.0</td>\n",
              "      <td>49461.0</td>\n",
              "      <td>65949.0</td>\n",
              "      <td>78526.0</td>\n",
              "      <td>98158.0</td>\n",
              "      <td>206699.0</td>\n",
              "    </tr>\n",
              "    <tr>\n",
              "      <th rowspan=\"3\" valign=\"top\">SE</th>\n",
              "      <th>2020</th>\n",
              "      <td>3.0</td>\n",
              "      <td>89803.0</td>\n",
              "      <td>85345.0</td>\n",
              "      <td>33511.0</td>\n",
              "      <td>40705.0</td>\n",
              "      <td>47899.0</td>\n",
              "      <td>117950.0</td>\n",
              "      <td>188000.0</td>\n",
              "    </tr>\n",
              "    <tr>\n",
              "      <th>2021</th>\n",
              "      <td>6.0</td>\n",
              "      <td>125519.0</td>\n",
              "      <td>34909.0</td>\n",
              "      <td>76833.0</td>\n",
              "      <td>100962.0</td>\n",
              "      <td>132500.0</td>\n",
              "      <td>150000.0</td>\n",
              "      <td>165000.0</td>\n",
              "    </tr>\n",
              "    <tr>\n",
              "      <th>2022</th>\n",
              "      <td>45.0</td>\n",
              "      <td>139763.0</td>\n",
              "      <td>47188.0</td>\n",
              "      <td>25000.0</td>\n",
              "      <td>108800.0</td>\n",
              "      <td>136994.0</td>\n",
              "      <td>165400.0</td>\n",
              "      <td>243900.0</td>\n",
              "    </tr>\n",
              "  </tbody>\n",
              "</table>\n",
              "</div>"
            ],
            "text/plain": [
              "                            count      mean      std       min       25%  \\\n",
              "experience_level work_year                                                 \n",
              "EN               2020         2.0   48216.0   9230.0   41689.0   44952.0   \n",
              "                 2021         5.0   53916.0  26184.0   21637.0   30428.0   \n",
              "                 2022         5.0   68239.0  29789.0   45807.0   52351.0   \n",
              "EX               2022         4.0  245500.0  55121.0  200000.0  212000.0   \n",
              "MI               2020         6.0  100657.0  23701.0   70139.0   82098.0   \n",
              "                 2021        20.0   71989.0  49637.0    4000.0   28281.0   \n",
              "                 2022        25.0   89399.0  38022.0   49461.0   65949.0   \n",
              "SE               2020         3.0   89803.0  85345.0   33511.0   40705.0   \n",
              "                 2021         6.0  125519.0  34909.0   76833.0  100962.0   \n",
              "                 2022        45.0  139763.0  47188.0   25000.0  108800.0   \n",
              "\n",
              "                                 50%       75%       max  \n",
              "experience_level work_year                                \n",
              "EN               2020        48216.0   51479.0   54742.0  \n",
              "                 2021        65013.0   72500.0   80000.0  \n",
              "                 2022        58035.0   65000.0  120000.0  \n",
              "EX               2022       229000.0  262500.0  324000.0  \n",
              "MI               2020       108000.0  112154.0  130800.0  \n",
              "                 2021        70976.0  102500.0  200000.0  \n",
              "                 2022        78526.0   98158.0  206699.0  \n",
              "SE               2020        47899.0  117950.0  188000.0  \n",
              "                 2021       132500.0  150000.0  165000.0  \n",
              "                 2022       136994.0  165400.0  243900.0  "
            ]
          },
          "execution_count": 34,
          "metadata": {},
          "output_type": "execute_result"
        }
      ],
      "source": [
        "data_engineer = data[data['job_title'] == 'Data Engineer']\n",
        "data_agg = data_engineer.groupby(['experience_level', 'work_year'])['salary_in_usd'].describe().round()\n",
        "print('Распределение зарплат Data Engineer от опыта работы в зависимости по годам')\n",
        "data_agg"
      ]
    },
    {
      "cell_type": "code",
      "execution_count": null,
      "metadata": {},
      "outputs": [
        {
          "data": {
            "image/png": "[encoded data removed]",
            "text/plain": [
              "<Figure size 640x480 with 2 Axes>"
            ]
          },
          "metadata": {},
          "output_type": "display_data"
        }
      ],
      "source": [
        "cross_tab = pd.crosstab(index=data_engineer['work_year'], columns=data['company_size'])\n",
        "ax = sns.heatmap(cross_tab, annot=True, linewidth=.5, fmt='.0f', cmap=\"coolwarm\")\n",
        "ax.set(xlabel='Размер компании', ylabel='Год')\n",
        "ax.set_xticklabels(['Большие', 'Средние', 'Маленькие'])\n",
        "ax.set_yticklabels(['2020', '2021', '2022'])\n",
        "plt.title('Распределение вакансий Data Engineer в зависимости от опыта и размера компании')\n",
        "plt.show()"
      ]
    },
    {
      "cell_type": "markdown",
      "metadata": {
        "id": "-UcttLBPfd8-"
      },
      "source": [
        "## Статистический анализ данных\n",
        "\n"
      ]
    },
    {
      "cell_type": "code",
      "execution_count": null,
      "metadata": {
        "id": "sn3PGE23l7Ze"
      },
      "outputs": [],
      "source": [
        "# функция для принятия решения о нормальности\n",
        "def decision_normality(p):\n",
        "    print('p-value = {:.3f}'.format(p))\n",
        "    if p <= alpha:\n",
        "        print('p-значение меньше, чем заданный уровень значимости {:.2f}. Распределение отлично от нормального'.format(alpha))\n",
        "    else:\n",
        "        print('p-значение больше, чем заданный уровень значимости {:.2f}. Распределение является нормальным'.format(alpha))\n",
        "\n",
        "\n",
        "# функция для принятия решения об отклонении нулевой гипотезы\n",
        "def decision_hypothesis(p):\n",
        "    print('p-value = {:.3f}'.format(p))\n",
        "    if p <= alpha:\n",
        "        print('p-значение меньше, чем заданный уровень значимости {:.2f}. Отвергаем нулевую гипотезу в пользу альтернативной.'.format(alpha))\n",
        "    else:\n",
        "        print('p-значение больше, чем заданный уровень значимости {:.2f}. У нас нет оснований отвергнуть нулевую гипотезу.'.format(alpha))\n",
        "      "
      ]
    },
    {
      "cell_type": "markdown",
      "metadata": {
        "id": "zxbl3BYLGKIW"
      },
      "source": [
        "### Выросла ли зарплата специалистов Data Scientist в 2022 году по сравнению с 2021 годом?\n",
        "\n",
        "**Сформулируем нулевую и альтернативные гипотезы**\n",
        "\n",
        "*Нулевая гипотеза* ($H_0$): средний размер зарплат специалистов Data Scientist в 2022 году ($μ_1$) статистически меньше либо равен размеру зарплат специалистов Data Scientist в 2021 году ($μ_2$).\n",
        "\n",
        "$$ H_0 : μ_1 <= μ_2$$\n",
        "\n",
        "*Альтернативная гипотеза* ($H_1$): средний размер зарплат специалистов Data Scientist в 2022 году ($μ_1$) статистически больше, чем размер размер зарплат специалистов Data Scientist в 2021 году ($μ_2$).\n",
        "\n",
        "$$ H_1 : μ_1 > μ_2$$"
      ]
    },
    {
      "cell_type": "markdown",
      "metadata": {
        "id": "Yi8l7ZWSl7Ze"
      },
      "source": [
        "**Проверка на нормальность**\n",
        "\n",
        "С помощью теста Шапиро-Уилка проверим, распределён ли признак нормально. Напомним гипотезы теста Шапиро-Уилка:\n",
        "\n",
        "*Нулевая гипотеза* ($H_0$): распределение данные является нормальным.\n",
        "\n",
        "*Альтернативная гипотеза* ($H_1$): распределение данных отлично от нормального."
      ]
    },
    {
      "cell_type": "code",
      "execution_count": null,
      "metadata": {
        "colab": {
          "base_uri": "https://localhost:8080/"
        },
        "id": "bCxAGItPTHRe",
        "outputId": "334716f4-96c7-4a21-ca5f-c7d352adde2b"
      },
      "outputs": [
        {
          "name": "stdout",
          "output_type": "stream",
          "text": [
            "Для Data Scientist в 2022 году:\n",
            "p-value = 0.676\n",
            "p-значение больше, чем заданный уровень значимости 0.05. Распределение является нормальным\n",
            "Для Data Scientist в 2021 году:\n",
            "p-value = 0.107\n",
            "p-значение больше, чем заданный уровень значимости 0.05. Распределение является нормальным\n"
          ]
        }
      ],
      "source": [
        "# значения зарплатных выплат\n",
        "data_scientist = data[(data['job_title'] == 'Data Scientist') & (data['work_year'].isin([2022]))]\n",
        "year_22 = data_scientist.loc[data_scientist['work_year']==2022, 'salary_in_usd']\n",
        "\n",
        "data_scientist = data[(data['job_title'] == 'Data Scientist') & (data['work_year'].isin([2021]))]\n",
        "year_21 = data_scientist.loc[data_scientist['work_year']==2021, 'salary_in_usd']\n",
        "\n",
        "# проводим тест Шапиро-Уилка\n",
        "print('Для Data Scientist в 2022 году:')\n",
        "result = stats.shapiro(year_22)\n",
        "decision_normality(result[1])\n",
        "\n",
        "print('Для Data Scientist в 2021 году:')\n",
        "result = stats.shapiro(year_21)\n",
        "decision_normality(result[1])"
      ]
    },
    {
      "cell_type": "markdown",
      "metadata": {
        "id": "IBOYMwmfTHRu"
      },
      "source": [
        "**Выберем подходящий статистический тест**\n",
        "\n",
        "Для выбора нужного теста воспользуемся алгоритмом выбора теста. Для этого ответим на следующие вопросы:\n",
        "* Какой тип у признака «Размер зарплатных выплат»? — Количественный.\n",
        "* Сколько сравниваемых групп? — Две.\n",
        "* Группы зависимы? — Нет.\n",
        "* Признак распределён по нормальному закону? — Да.\n",
        "\n",
        "Чтобы проверить нашу гипотезу, можно использовать ДВУХВЫБОРОЧНЫЙ T-КРИТЕРИЙ для сравнения средних значений распределений.\n",
        "\n",
        "**Проведём тест**"
      ]
    },
    {
      "cell_type": "code",
      "execution_count": null,
      "metadata": {
        "colab": {
          "base_uri": "https://localhost:8080/"
        },
        "id": "xaQuaMV8THRu",
        "outputId": "0e37fc3b-bd2e-4166-8d52-f373fd82c672"
      },
      "outputs": [
        {
          "name": "stdout",
          "output_type": "stream",
          "text": [
            "\n",
            "Тест на равенство средних\n",
            "p-value = 0.000\n",
            "p-значение меньше, чем заданный уровень значимости 0.05. Отвергаем нулевую гипотезу в пользу альтернативной.\n"
          ]
        }
      ],
      "source": [
        "# проводим тест на сравнение средних в группах\n",
        "print('\\nТест на равенство средних')\n",
        "_, p = stats.ttest_ind(year_22, year_21, alternative='greater', equal_var=True)\n",
        "decision_hypothesis(p)\n",
        "\n",
        "#print('p-value = {:.3f}'.format(p))\n",
        "\n"
      ]
    },
    {
      "cell_type": "markdown",
      "metadata": {
        "id": "aZEt9hu-Q995"
      },
      "source": [
        "**Вывод**\n",
        "\n",
        "Отвергаем нулевую гипотезу в пользу альтернативной. Средний размер зарплат специалистов Data Scientist в 2022 году статистически больше, чем размер размер зарплат специалистов Data Scientist в 2021 году."
      ]
    },
    {
      "cell_type": "markdown",
      "metadata": {
        "id": "JW47VJo3Q99s"
      },
      "source": [
        "### Была ли зарплата специалистов Data Scientist больше, чем зарплата специалистов Data Engineer в 2022 году?\n",
        "\n",
        "\n",
        "**Сформулируем нулевую и альтернативные гипотезы**\n",
        "\n",
        "*Нулевая гипотеза* ($H_0$): размер зарплат для специалистов Data Scientist ($μ_1$) статистически больше либо равен размеру зарплат специалистов Data Engineer ($μ_2$) в 2022 году.\n",
        "\n",
        "$$ H_0 : μ_1 >= μ_2$$\n",
        "\n",
        "*Альтернативная гипотеза* ($H_1$): размер зарплат для специалистов Data Scientist ($μ_1$) статистически меньше размеру зарплат специалистов Data Engineer ($μ_2$) в 2022 году.\n",
        "$$ H_1 : μ_1 < μ_2$$\n",
        "\n",
        "\n"
      ]
    },
    {
      "cell_type": "markdown",
      "metadata": {
        "id": "kMk6Q5sRl7Zf"
      },
      "source": [
        "**Проверка на нормальность**\n",
        "\n",
        "С помощью теста Шапиро-Уилка проверим, распределён ли признак нормально."
      ]
    },
    {
      "cell_type": "code",
      "execution_count": null,
      "metadata": {
        "colab": {
          "base_uri": "https://localhost:8080/"
        },
        "id": "JxXzC7-_RNDj",
        "outputId": "6e4c2c71-7d7d-4510-883c-8a52b5f64149"
      },
      "outputs": [
        {
          "name": "stdout",
          "output_type": "stream",
          "text": [
            "Для Data Scientist в 2022 году:\n",
            "p-value = 0.676\n",
            "p-значение больше, чем заданный уровень значимости 0.05. Распределение является нормальным\n",
            "Для Data Engineer в 2022 году:\n",
            "p-value = 0.007\n",
            "p-значение меньше, чем заданный уровень значимости 0.05. Распределение отлично от нормального\n"
          ]
        }
      ],
      "source": [
        "# значения зарплатных выплат\n",
        "data_scientist = data[(data['job_title'] == 'Data Scientist') & (data['work_year'].isin([2022]))]\n",
        "year_ds = data_scientist.loc[data_scientist['work_year']==2022, 'salary_in_usd']\n",
        "\n",
        "data_engineer = data[(data['job_title'] == 'Data Engineer') & (data['work_year'].isin([2022]))]\n",
        "year_de = data_engineer.loc[data_engineer['work_year']==2022, 'salary_in_usd']\n",
        "\n",
        "# проводим тест Шапиро-Уилка\n",
        "print('Для Data Scientist в 2022 году:')\n",
        "result = stats.shapiro(year_ds)\n",
        "decision_normality(result[1])\n",
        "\n",
        "print('Для Data Engineer в 2022 году:')\n",
        "result = stats.shapiro(year_de)\n",
        "decision_normality(result[1])"
      ]
    },
    {
      "cell_type": "markdown",
      "metadata": {
        "id": "gKIiBvTMRNDk"
      },
      "source": [
        "**Выберем подходящий статистический тест**\n",
        "\n",
        "Для выбора нужного теста воспользуемся алгоритмом выбора теста. Для этого ответим на следующие вопросы:\n",
        "* Какой тип у признака «Размер зарплатных выплат»? — Количественный.\n",
        "* Сколько сравниваемых групп? — Две.\n",
        "* Группы зависимы? — Нет.\n",
        "* Признак распределён по нормальному закону? — Да.\n",
        "\n",
        "Чтобы проверить нашу гипотезу, можно использовать ДВУХВЫБОРОЧНЫЙ T-КРИТЕРИЙ для сравнения средних значений распределений.\n",
        "\n",
        "**Проведём тест**\n"
      ]
    },
    {
      "cell_type": "code",
      "execution_count": null,
      "metadata": {
        "colab": {
          "base_uri": "https://localhost:8080/"
        },
        "id": "93N51wSsRNDk",
        "outputId": "0df1775e-94ad-41b1-d7fc-4d91335fc590"
      },
      "outputs": [
        {
          "name": "stdout",
          "output_type": "stream",
          "text": [
            "\n",
            "Тест на равенство средних\n",
            "p-value = 0.241\n",
            "p-значение больше, чем заданный уровень значимости 0.05. У нас нет оснований отвергнуть нулевую гипотезу.\n"
          ]
        }
      ],
      "source": [
        "# проводим тест на сравнение средних в группах\n",
        "print('\\nТест на равенство средних')\n",
        "_, p = stats.ttest_ind(year_ds, year_de, alternative='greater', equal_var=True)\n",
        "decision_hypothesis(p)"
      ]
    },
    {
      "cell_type": "markdown",
      "metadata": {
        "id": "yZogeviaRNDk"
      },
      "source": [
        "**Вывод**\n",
        "\n",
        "У нас нет оснований отвергнуть нулевую гипотезу, а значит размер зарплат для специалистов Data Scientist статистически больше либо равен размеру зарплат специалистов Data Engineer в 2022 году."
      ]
    },
    {
      "cell_type": "markdown",
      "metadata": {
        "id": "ByITCYyXGKb4"
      },
      "source": [
        "### Различна ли зарплата специалистов Data Scientist в маленьких, средних и больших компаниях?\n",
        "\n",
        "**Сформулируем нулевую и альтернативные гипотезы**\n",
        "\n",
        "*Нулевая гипотеза*: размер зарплатных выплат специалистов Data Scientist не отличается в зависиомсти от размера компании: маленькие ($μ_1$), средние ($μ_2$) и большие ($μ_3$).\n",
        "\n",
        "$$ H_0 : μ_1 = μ_2 = μ_3 $$\n",
        "\n",
        "*Альтернативная гипотеза*: размер зарплатных выплат специалистов Data Scientist отличается в зависиомсти от размера компании: маленькие ($μ_1$), средние ($μ_2$) и большие ($μ_3$).\n",
        "\n",
        "$$ H_1 : μ_1 \\neq μ_2 \\neq μ_3$$\n",
        "\n"
      ]
    },
    {
      "cell_type": "markdown",
      "metadata": {
        "id": "dPXLUo31l7Zg"
      },
      "source": [
        "**Проверка на нормальность**\n",
        "\n",
        "С помощью теста Шапиро-Уилка проверим, распределён ли признак нормально."
      ]
    },
    {
      "cell_type": "code",
      "execution_count": null,
      "metadata": {
        "colab": {
          "base_uri": "https://localhost:8080/"
        },
        "id": "0g8PmvdlGKmP",
        "outputId": "48892466-4da7-4a58-c414-d3af794b053d"
      },
      "outputs": [
        {
          "name": "stdout",
          "output_type": "stream",
          "text": [
            "Для большых компаний:\n",
            "p-value = 0.000\n",
            "p-значение меньше, чем заданный уровень значимости 0.05. Распределение отлично от нормального\n",
            "Для средних компаний:\n",
            "p-value = 0.897\n",
            "p-значение больше, чем заданный уровень значимости 0.05. Распределение является нормальным\n",
            "Для маленьких компаний:\n",
            "p-value = 0.189\n",
            "p-значение больше, чем заданный уровень значимости 0.05. Распределение является нормальным\n"
          ]
        }
      ],
      "source": [
        "# значения зарплатных выплат\n",
        "data_scientist = data[(data['job_title'] == 'Data Scientist')]\n",
        "data_scientist_l = data_scientist.loc[data_scientist['company_size']=='L', 'salary_in_usd']\n",
        "data_scientist_m = data_scientist.loc[data_scientist['company_size']=='M', 'salary_in_usd']\n",
        "data_scientist_s = data_scientist.loc[data_scientist['company_size']=='S', 'salary_in_usd']\n",
        "\n",
        "# проводим тест Шапиро-Уилка\n",
        "print('Для большых компаний:')\n",
        "result = stats.shapiro(data_scientist_l)\n",
        "decision_normality(result[1])\n",
        "\n",
        "print('Для средних компаний:')\n",
        "result = stats.shapiro(data_scientist_m)\n",
        "decision_normality(result[1])\n",
        "\n",
        "print('Для маленьких компаний:')\n",
        "result = stats.shapiro(data_scientist_s)\n",
        "decision_normality(result[1])\n"
      ]
    },
    {
      "cell_type": "markdown",
      "metadata": {
        "id": "FPq2KNq4dbWj"
      },
      "source": [
        "**Выберем подходящий статистический тест**\n",
        "\n",
        "Для выбора нужного теста воспользуемся алгоритмом выбора теста. Для этого ответим на следующие вопросы:\n",
        "* Какой тип у признака «Размер компании»? — Количественный.\n",
        "* Сколько сравниваемых групп? — Три.\n",
        "* Группы зависимы? — Нет.\n",
        "* Признак распределён по нормальному закону? — Нет. \n",
        "\n",
        "Для проверки нашей гипотезы можно использовать критерий Краскела — Уоллиса.\n",
        "\n",
        "**Проведём тест**"
      ]
    },
    {
      "cell_type": "code",
      "execution_count": null,
      "metadata": {
        "colab": {
          "base_uri": "https://localhost:8080/"
        },
        "id": "ZIJjzAQxfnsp",
        "outputId": "11a9cf62-98d8-4de3-9cec-1c040577ac51"
      },
      "outputs": [
        {
          "name": "stdout",
          "output_type": "stream",
          "text": [
            "p-value = 0.000\n",
            "p-значение меньше, чем заданный уровень значимости 0.05. Отвергаем нулевую гипотезу в пользу альтернативной.\n"
          ]
        }
      ],
      "source": [
        "# проводим тест\n",
        "_, p = stats.kruskal(data_scientist_l, data_scientist_m, data_scientist_s)\n",
        "decision_hypothesis(p)"
      ]
    },
    {
      "cell_type": "markdown",
      "metadata": {
        "id": "TESdSdapPblj"
      },
      "source": [
        "**Вывод**\n",
        "\n",
        "Отвергаем нулевую гипотезу в пользу альтернативной, а значит размер зарплатных выплат специалистов Data Scientist отличается в зависиомсти от размера компании."
      ]
    },
    {
      "cell_type": "markdown",
      "metadata": {
        "id": "C_BzXnR7l7Zh"
      },
      "source": [
        "### Есть ли связь между наличием должностей Data Scientist и Data Engineer и размером компании?"
      ]
    },
    {
      "cell_type": "markdown",
      "metadata": {
        "id": "nTL6_EGyl7Zh"
      },
      "source": [
        "**Сформулируем нулевую и альтернативные гипотезы**\n",
        "\n",
        "*Нулевая гипотеза*: между специалистами Data Scientist и Data Engineer и размером компании нет взаимосвязи (признаки независимы).\n",
        "\n",
        "*Альтернативная гипотеза*: между специалистами Data Scientist и Data Engineer и размером компании есть взаимосвязь (признаки зависимы).\n"
      ]
    },
    {
      "cell_type": "markdown",
      "metadata": {
        "id": "JBDWUoufl7Zh"
      },
      "source": [
        "**Выберем подходящий статистический тест**\n",
        "\n",
        "Для выбора нужного теста воспользуемся алгоритмом выбора теста. Для этого ответим на следующие вопросы:\n",
        "* Какой тип у признака «Специалист»? — Категориальный.\n",
        "* Сколько сравниваемых групп? — Две.\n",
        "* Проверяется независимость групп? — Да.\n",
        "\n",
        "Для проверки нашей гипотезы можно использовать критерий ${\\chi}^2$ (хи-квадрат).\n",
        "\n",
        "**Проведём тест**"
      ]
    },
    {
      "cell_type": "code",
      "execution_count": null,
      "metadata": {
        "colab": {
          "base_uri": "https://localhost:8080/",
          "height": 143
        },
        "id": "Hs4I-87_l7Zh",
        "outputId": "3c863879-9c55-497e-de9e-16dff9c07675"
      },
      "outputs": [
        {
          "data": {
            "text/html": [
              "<div>\n",
              "<style scoped>\n",
              "    .dataframe tbody tr th:only-of-type {\n",
              "        vertical-align: middle;\n",
              "    }\n",
              "\n",
              "    .dataframe tbody tr th {\n",
              "        vertical-align: top;\n",
              "    }\n",
              "\n",
              "    .dataframe thead th {\n",
              "        text-align: right;\n",
              "    }\n",
              "</style>\n",
              "<table border=\"1\" class=\"dataframe\">\n",
              "  <thead>\n",
              "    <tr style=\"text-align: right;\">\n",
              "      <th>company_size</th>\n",
              "      <th>L</th>\n",
              "      <th>M</th>\n",
              "      <th>S</th>\n",
              "    </tr>\n",
              "    <tr>\n",
              "      <th>job_title</th>\n",
              "      <th></th>\n",
              "      <th></th>\n",
              "      <th></th>\n",
              "    </tr>\n",
              "  </thead>\n",
              "  <tbody>\n",
              "    <tr>\n",
              "      <th>Data Engineer</th>\n",
              "      <td>34</td>\n",
              "      <td>81</td>\n",
              "      <td>6</td>\n",
              "    </tr>\n",
              "    <tr>\n",
              "      <th>Data Scientist</th>\n",
              "      <td>43</td>\n",
              "      <td>66</td>\n",
              "      <td>21</td>\n",
              "    </tr>\n",
              "  </tbody>\n",
              "</table>\n",
              "</div>"
            ],
            "text/plain": [
              "company_size     L   M   S\n",
              "job_title                 \n",
              "Data Engineer   34  81   6\n",
              "Data Scientist  43  66  21"
            ]
          },
          "execution_count": 43,
          "metadata": {},
          "output_type": "execute_result"
        }
      ],
      "source": [
        "data_c = data[(data['job_title'] == 'Data Scientist') | (data['job_title'] == 'Data Engineer')]\n",
        "cross_table = pd.crosstab(data_c['job_title'], data['company_size'])\n",
        "\n",
        "cross_table"
      ]
    },
    {
      "cell_type": "code",
      "execution_count": null,
      "metadata": {
        "colab": {
          "base_uri": "https://localhost:8080/"
        },
        "id": "QluLlU6Kl7Zh",
        "outputId": "93379b4f-594d-45a6-8283-733c181331fd"
      },
      "outputs": [
        {
          "name": "stdout",
          "output_type": "stream",
          "text": [
            "p-value = 0.005\n",
            "p-значение меньше, чем заданный уровень значимости 0.05. Отвергаем нулевую гипотезу в пользу альтернативной.\n"
          ]
        }
      ],
      "source": [
        "# проводим тест\n",
        "_, p, _, _ = stats.chi2_contingency(cross_table)\n",
        "decision_hypothesis(p)"
      ]
    },
    {
      "cell_type": "markdown",
      "metadata": {
        "id": "iX8a9h8Dl7Zh"
      },
      "source": [
        "**Вывод**\n",
        "\n",
        "Отвергаем нулевую гипотезу в пользу альтернативной. Существует статистически значимая взаимосвязь между специалистами Data Scientist и Data Engineer и размером компании."
      ]
    },
    {
      "cell_type": "markdown",
      "metadata": {},
      "source": [
        "###Дополнительные исследования"
      ]
    },
    {
      "cell_type": "markdown",
      "metadata": {},
      "source": [
        "### Выросла ли зарплата специалистов Data Engineer в 2022 году по сравнению с 2021 годом?\n",
        "**Сформулируем нулевую и альтернативные гипотезы**\n",
        "\n",
        "*Нулевая гипотеза* ($H_0$): средний размер зарплат специалистов Data Engineer в 2022 году ($μ_1$) статистически меньше либо равен размеру зарплат специалистов Data Engineer в 2021 году ($μ_2$).\n",
        "\n",
        "$$ H_0 : μ_1 <= μ_2$$\n",
        "\n",
        "*Альтернативная гипотеза* ($H_1$): средний размер зарплат специалистов Data Engineer в 2022 году ($μ_1$) статистически больше, чем размер размер зарплат специалистов Data Engineer в 2021 году ($μ_2$).\n",
        "\n",
        "$$ H_1 : μ_1 > μ_2$$"
      ]
    },
    {
      "cell_type": "markdown",
      "metadata": {},
      "source": [
        "**Проверка на нормальность**\n",
        "\n",
        "С помощью теста Шапиро-Уилка проверим, распределён ли признак нормально. Напомним гипотезы теста Шапиро-Уилка:\n",
        "\n",
        "*Нулевая гипотеза* ($H_0$): распределение данные является нормальным.\n",
        "\n",
        "*Альтернативная гипотеза* ($H_1$): распределение данных отлично от нормального."
      ]
    },
    {
      "cell_type": "code",
      "execution_count": null,
      "metadata": {},
      "outputs": [
        {
          "name": "stdout",
          "output_type": "stream",
          "text": [
            "Для Data Engineer в 2022 году:\n",
            "p-value = 0.007\n",
            "p-значение меньше, чем заданный уровень значимости 0.05. Распределение отлично от нормального\n",
            "Для Data Engineer в 2021 году:\n",
            "p-value = 0.107\n",
            "p-значение больше, чем заданный уровень значимости 0.05. Распределение является нормальным\n"
          ]
        }
      ],
      "source": [
        "# значения зарплатных выплат\n",
        "data_engineer = data[(data['job_title'] == 'Data Engineer') & (data['work_year'].isin([2022]))]\n",
        "year_22 = data_engineer.loc[data_engineer['work_year']==2022, 'salary_in_usd']\n",
        "\n",
        "data_engineer = data[(data['job_title'] == 'Data Scientist') & (data['work_year'].isin([2021]))]\n",
        "year_21 = data_engineer.loc[data_engineer['work_year']==2021, 'salary_in_usd']\n",
        "\n",
        "# проводим тест Шапиро-Уилка\n",
        "print('Для Data Engineer в 2022 году:')\n",
        "result = stats.shapiro(year_22)\n",
        "decision_normality(result[1])\n",
        "\n",
        "print('Для Data Engineer в 2021 году:')\n",
        "result = stats.shapiro(year_21)\n",
        "decision_normality(result[1])"
      ]
    },
    {
      "cell_type": "markdown",
      "metadata": {},
      "source": [
        "**Выберем подходящий статистический тест**\n",
        "\n",
        "Для выбора нужного теста воспользуемся алгоритмом выбора теста. Для этого ответим на следующие вопросы:\n",
        "* Какой тип у признака «Размер зарплатных выплат»? — Количественный.\n",
        "* Сколько сравниваемых групп? — Две.\n",
        "* Группы зависимы? — Нет.\n",
        "* Признак распределён по нормальному закону? — Да.\n",
        "\n",
        "Чтобы проверить нашу гипотезу, можно использовать ДВУХВЫБОРОЧНЫЙ T-КРИТЕРИЙ для сравнения средних значений распределений.\n",
        "\n",
        "**Проведём тест**"
      ]
    },
    {
      "cell_type": "code",
      "execution_count": null,
      "metadata": {},
      "outputs": [
        {
          "name": "stdout",
          "output_type": "stream",
          "text": [
            "\n",
            "Тест на равенство средних\n",
            "p-value = 0.000\n",
            "p-значение меньше, чем заданный уровень значимости 0.05. Отвергаем нулевую гипотезу в пользу альтернативной.\n"
          ]
        }
      ],
      "source": [
        "# проводим тест на сравнение средних в группах\n",
        "print('\\nТест на равенство средних')\n",
        "_, p = stats.ttest_ind(year_22, year_21, alternative='greater', equal_var=True)\n",
        "decision_hypothesis(p)\n",
        "\n",
        "#print('p-value = {:.3f}'.format(p))\n"
      ]
    },
    {
      "cell_type": "markdown",
      "metadata": {},
      "source": [
        "Вывод\n",
        "\n",
        "Отвергаем нулевую гипотезу в пользу альтернативной. Средний размер зарплат специалистов Data Engineer в 2022 году статистически больше, чем размер размер зарплат специалистов Data Engineer в 2021 году."
      ]
    },
    {
      "cell_type": "markdown",
      "metadata": {},
      "source": [
        "### Влияет ли регион проживания (CA, DE, GB и IN) на размер выплат специалистов аналитиков данных?\n",
        "\n",
        "**Сформулируем нулевую и альтернативные гипотезы**\n",
        "\n",
        "*Нулевая гипотеза*: размер заработных выплат не отличается в разных регионах: CA ($μ_1$), DE ($μ_2$), GB ($μ_3$), IN ($μ_4$).\n",
        "\n",
        "$$ H_0 : μ_1 = μ_2 = μ_3 = μ_4$$\n",
        "\n",
        "*Альтернативная гипотеза*: размер заработных выплат отличается в разных регионах: CA ($μ_1$), DE ($μ_2$), GB ($μ_3$), IN ($μ_4$).\n",
        "\n",
        "$$ H_1 : μ_1 \\neq μ_2 \\neq μ_3 \\neq μ_4$$"
      ]
    },
    {
      "cell_type": "markdown",
      "metadata": {},
      "source": [
        "**Проверка на нормальность**\n",
        "\n",
        "С помощью теста Шапиро-Уилка проверим, распределён ли признак нормально."
      ]
    },
    {
      "cell_type": "code",
      "execution_count": null,
      "metadata": {},
      "outputs": [
        {
          "name": "stdout",
          "output_type": "stream",
          "text": [
            "Для местонахождения компании в CA:\n",
            "p-value = 0.000\n",
            "p-значение меньше, чем заданный уровень значимости 0.05. Распределение отлично от нормального\n",
            "Для местонахождения компании в DE:\n",
            "p-value = 0.040\n",
            "p-значение меньше, чем заданный уровень значимости 0.05. Распределение отлично от нормального\n",
            "Для местонахождения компании в GB:\n",
            "p-value = 0.014\n",
            "p-значение меньше, чем заданный уровень значимости 0.05. Распределение отлично от нормального\n",
            "Для местонахождения компании в IN:\n",
            "p-value = 0.001\n",
            "p-значение меньше, чем заданный уровень значимости 0.05. Распределение отлично от нормального\n"
          ]
        }
      ],
      "source": [
        "# загружаем датасет\n",
        "data_ca = data.loc[data['company_location']=='CA', 'salary_in_usd']\n",
        "data_de = data.loc[data['company_location']=='DE', 'salary_in_usd']\n",
        "data_gb = data.loc[data['company_location']=='GB', 'salary_in_usd']\n",
        "data_in = data.loc[data['company_location']=='IN', 'salary_in_usd']\n",
        "# проводим тест Шапиро-Уилка\n",
        "print('Для местонахождения компании в CA:')\n",
        "result = stats.shapiro(data_ca)\n",
        "decision_normality(result[1])\n",
        "\n",
        "print('Для местонахождения компании в DE:')\n",
        "result = stats.shapiro(data_de)\n",
        "decision_normality(result[1])\n",
        "\n",
        "print('Для местонахождения компании в GB:')\n",
        "result = stats.shapiro(data_gb)\n",
        "decision_normality(result[1])\n",
        "\n",
        "print('Для местонахождения компании в IN:')\n",
        "result = stats.shapiro(data_in)\n",
        "decision_normality(result[1])"
      ]
    },
    {
      "cell_type": "markdown",
      "metadata": {},
      "source": [
        "**Выберем подходящий статистический тест**\n",
        "\n",
        "Для выбора нужного теста воспользуемся алгоритмом выбора теста. Для этого ответим на следующие вопросы:\n",
        "* Какой тип у признака «Регион местонахождения компании»? — Количественный.\n",
        "* Сколько сравниваемых групп? — Четыре.\n",
        "* Группы зависимы? — Нет.\n",
        "* Признак распределён по нормальному закону? — Нет. \n",
        "\n",
        "Для проверки нашей гипотезы можно использовать критерий Краскела — Уоллиса.\n",
        "\n",
        "**Проведём тест**"
      ]
    },
    {
      "cell_type": "code",
      "execution_count": null,
      "metadata": {},
      "outputs": [
        {
          "name": "stdout",
          "output_type": "stream",
          "text": [
            "p-value = 0.000\n",
            "p-значение меньше, чем заданный уровень значимости 0.05. Отвергаем нулевую гипотезу в пользу альтернативной.\n"
          ]
        }
      ],
      "source": [
        "# проводим тест\n",
        "_, p = stats.kruskal(data_ca, data_de, data_gb, data_in)\n",
        "decision_hypothesis(p)"
      ]
    },
    {
      "cell_type": "markdown",
      "metadata": {},
      "source": [
        "Вывод\n",
        "\n",
        "Отвергаем нулевую гипотезу в пользу альтернативной, а значит размер заработных выплат отличается в разных регионах: CA, DE, GB, IN.\n"
      ]
    },
    {
      "cell_type": "markdown",
      "metadata": {
        "id": "weubXekLfsQX"
      },
      "source": [
        "## Итоговые результаты исследования\n",
        "\n",
        "*   Средний размер зарплат специалистов Data Scientist в 2022 году статистически больше, чем размер размер зарплат специалистов Data Scientist в 2021 году.\n",
        "*   Размер зарплатных выплат специалистов Data Scientist отличается в зависиомсти от размера компании.\n",
        "*   У нас нет оснований отвергнуть нулевую гипотезу, а значит размер зарплат для специалистов Data Scientist статистически больше либо равен размеру зарплат специалистов Data Engineer в 2022 году.\n",
        "*   Существует статистически значимая взаимосвязь между специалистами Data Scientist и Data Engineer и размером компании.\n",
        "*   Средний размер зарплат специалистов Data Engineer в 2022 году статистически больше, чем размер размер зарплат специалистов Data Engineer в 2021 году.\n",
        "*   Размер заработных выплат отличается в разных регионах: CA, DE, GB, IN.\n",
        "\n",
        "\n",
        "Исходя из анализа данных, есть основания полагать, что на денежное содержание специалистов Data Scientist влияют следующие факторы:\n",
        "*   *experience_level* — опыт работы;\n",
        "*   *employment_type* — \tтип трудоустройства для этой роли;\n",
        "*   *job_title* — \tроль, в которой соискатель работал в течение года;\n",
        "*   *company_location* — \tстрана главного офиса работодателя или филиала по контракту в виде кода страны ISO 3166;\n",
        "*   *company_size* — \tсреднее количество людей, работавших в компании в течение года."
      ]
    }
  ],
  "metadata": {
    "colab": {
      "provenance": []
    },
    "kernelspec": {
      "display_name": "Python 3.10.8 ('base')",
      "language": "python",
      "name": "python3"
    },
    "language_info": {
      "codemirror_mode": {
        "name": "ipython",
        "version": 3
      },
      "file_extension": ".py",
      "mimetype": "text/x-python",
      "name": "python",
      "nbconvert_exporter": "python",
      "pygments_lexer": "ipython3",
      "version": "3.10.11"
    },
    "vscode": {
      "interpreter": {
        "hash": "86c56a74836ad344b00594bf6f38fa6a676a207ceefe20d101fbc465800ccb8d"
      }
    }
  },
  "nbformat": 4,
  "nbformat_minor": 0
}
